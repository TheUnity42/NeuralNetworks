{
 "cells": [
  {
   "cell_type": "code",
   "execution_count": 1,
   "metadata": {},
   "outputs": [],
   "source": [
    "import tensorflow as tf\n",
    "import numpy as np\n",
    "import matplotlib.pyplot as plt\n",
    "import pandas as pd\n",
    "import time\n",
    "import tqdm\n",
    "from transformers import GPT2Tokenizer\n",
    "\n",
    "from Attention import *"
   ]
  },
  {
   "cell_type": "code",
   "execution_count": 2,
   "metadata": {},
   "outputs": [],
   "source": [
    "# tok = AttentionUtils.load_tokens('tokens.csv')\n",
    "\n",
    "# vocab_length = len(tok['to_token'])\n",
    "# print(vocab_length)"
   ]
  },
  {
   "cell_type": "code",
   "execution_count": 3,
   "metadata": {},
   "outputs": [],
   "source": [
    "# [tok['to_token']['<pad>'], tok['to_token']\n",
    "#  ['<unk>'], tok['to_token']['<mask>']]\n"
   ]
  },
  {
   "cell_type": "code",
   "execution_count": 4,
   "metadata": {},
   "outputs": [
    {
     "data": {
      "image/png": "[encoded data removed]",
      "text/plain": [
       "<Figure size 432x288 with 1 Axes>"
      ]
     },
     "metadata": {},
     "output_type": "display_data"
    }
   ],
   "source": [
    "AttentionUtils.plot_schedule(128, 2000, 50000)"
   ]
  },
  {
   "cell_type": "code",
   "execution_count": 5,
   "metadata": {},
   "outputs": [
    {
     "data": {
      "text/plain": [
       "'2.5.0'"
      ]
     },
     "execution_count": 5,
     "metadata": {},
     "output_type": "execute_result"
    }
   ],
   "source": [
    "tf.keras.backend.clear_session()\n",
    "tf.__version__"
   ]
  },
  {
   "cell_type": "code",
   "execution_count": 6,
   "metadata": {},
   "outputs": [],
   "source": [
    "def build_token_contraint_loss(end_token):\n",
    "    def start_end_loss(y_true, y_pred):\n",
    "        end_tokens_pred = tf.reduce_sum(tf.cast(tf.math.equal(y_pred, end_token), tf.float32))\n",
    "        return tf.square(end_tokens_pred - 1)\n",
    "    return start_end_loss"
   ]
  },
  {
   "cell_type": "code",
   "execution_count": 7,
   "metadata": {},
   "outputs": [],
   "source": [
    "tokenizer = GPT2Tokenizer.from_pretrained('gpt2')\n",
    "tokenizer.add_special_tokens({'pad_token': '<pad>'})\n",
    "vocab_length = tokenizer.vocab_size"
   ]
  },
  {
   "cell_type": "code",
   "execution_count": 8,
   "metadata": {},
   "outputs": [],
   "source": [
    "def tokenize(s, max_len=128):\n",
    "    tok = tokenizer.encode(bytes.decode(s.numpy()),\n",
    "                           max_length=max_len, padding='max_length')\n",
    "    return tf.constant(tok, dtype=tf.int32)\n",
    "\n",
    "\n",
    "def shift(x):\n",
    "    return x[:, :-1], x[:, 1:]\n"
   ]
  },
  {
   "cell_type": "code",
   "execution_count": 9,
   "metadata": {},
   "outputs": [
    {
     "name": "stdout",
     "output_type": "stream",
     "text": [
      "<PrefetchDataset shapes: (None, 2, 128), types: tf.int32>\n"
     ]
    }
   ],
   "source": [
    "sentences = tf.data.experimental.load(\n",
    "    'sentences_combined_gpttokens.tfrecord', compression='GZIP')\n",
    "\n",
    "BUFFER_SIZE = 10000\n",
    "BATCH_SIZE = 64\n",
    "batched_sentences = sentences.shuffle(\n",
    "    BUFFER_SIZE, reshuffle_each_iteration=True).batch(BATCH_SIZE).prefetch(tf.data.experimental.AUTOTUNE)\n",
    "print(batched_sentences)\n"
   ]
  },
  {
   "cell_type": "code",
   "execution_count": 10,
   "metadata": {},
   "outputs": [
    {
     "name": "stdout",
     "output_type": "stream",
     "text": [
      "tf.Tensor(\n",
      "[[  264  1984    78 ... 50257 50257 50257]\n",
      " [27334   343    25 ... 50257 50257 50257]\n",
      " [  267  4598    25 ... 50257 50257 50257]\n",
      " ...\n",
      " [  357 24313   290 ... 50257 50257 50257]\n",
      " [  257  2588  4066 ... 50257 50257 50257]\n",
      " [  267  4598    25 ... 50257 50257 50257]], shape=(64, 128), dtype=int32)\n"
     ]
    }
   ],
   "source": [
    "for s in batched_sentences.take(1):\n",
    "    print(s[:,0,:])\n",
    "    break"
   ]
  },
  {
   "cell_type": "code",
   "execution_count": 11,
   "metadata": {},
   "outputs": [],
   "source": [
    "# input_seq_len = 96\n",
    "# output_seq_len = 96\n",
    "d_model = 128\n",
    "\n",
    "model = Transformer(num_layers=2, d_model=d_model, num_heads=8, dff=512,\n",
    "     input_vocab_size=vocab_length+1, target_vocab_size=vocab_length+1, pe_input=1000, pe_target=1000)\n",
    "\n",
    "# model = EncoderModel(num_layers=2, d_model=d_model, num_heads=8, dff=512,\n",
    "#                         input_vocab_size=vocab_length+1, target_vocab_size=vocab_length, pe_input=1000, pe_target=1000)\n",
    "\n",
    "train_loss = tf.keras.metrics.Mean(name='train_loss')\n",
    "train_accuracy = tf.keras.metrics.Mean(name='train_accuracy')\n",
    "\n",
    "mask_token = tokenizer.pad_token_id\n",
    "\n",
    "optimizer = AttentionUtils.scheduleAdam(d_model)\n",
    "loss_function = AttentionUtils.mask_loss(\n",
    "    tf.keras.losses.SparseCategoricalCrossentropy(from_logits=True, reduction='none'), mask_token)\n",
    "\n",
    "# add_loss = [[0.2, build_token_contraint_loss(tok['to_token']['<unk>'])]]\n",
    "\n",
    "acc_function = AttentionUtils.get_masked_acc(mask_token)"
   ]
  },
  {
   "cell_type": "code",
   "execution_count": 12,
   "metadata": {},
   "outputs": [
    {
     "name": "stdout",
     "output_type": "stream",
     "text": [
      "Latest checkpoint restored!!\n"
     ]
    }
   ],
   "source": [
    "checkpoint_path = \"./checkpoints/Transformer2_GPT_Tokens/train\"\n",
    "\n",
    "ckpt = tf.train.Checkpoint(transformer=model,\n",
    "                           optimizer=optimizer)\n",
    "\n",
    "ckpt_manager = tf.train.CheckpointManager(ckpt, checkpoint_path, max_to_keep=5)\n",
    "\n",
    "# if a checkpoint exists, restore the latest checkpoint.\n",
    "if ckpt_manager.latest_checkpoint:\n",
    "  ckpt.restore(ckpt_manager.latest_checkpoint)\n",
    "  print('Latest checkpoint restored!!')"
   ]
  },
  {
   "cell_type": "code",
   "execution_count": 13,
   "metadata": {},
   "outputs": [],
   "source": [
    "writer = tf.summary.create_file_writer('logs/transformer')\n",
    "tf.summary.trace_on(graph=True, profiler=False)"
   ]
  },
  {
   "cell_type": "code",
   "execution_count": 14,
   "metadata": {},
   "outputs": [],
   "source": [
    "train_step_signature = [\n",
    "    tf.TensorSpec(shape=(None, None), dtype=tf.int32),\n",
    "    tf.TensorSpec(shape=(None, None), dtype=tf.int32),\n",
    "]\n",
    "\n",
    "@tf.function()\n",
    "def train_step(inp, tar):    \n",
    "    with tf.GradientTape() as tape:\n",
    "        tar_inp = tf.pad(tar[:, :-1], [[0, 0], [0, 1]], constant_values=mask_token)\n",
    "        tar_real = tf.pad(tar[:, 1:], [[0, 0], [0, 1]], constant_values=mask_token)\n",
    "\n",
    "        # tf.print(inp[0])\n",
    "        # tf.print(tar_real[0])\n",
    "\n",
    "        predictions, _ = model((inp, tar_inp), True)\n",
    "        loss = loss_function(tar_real, predictions)\n",
    "\n",
    "        # for l, f in add_loss:\n",
    "        #     loss += f(tar_real, predictions) * l\n",
    "\n",
    "        gradients = tape.gradient(loss, model.trainable_variables)\n",
    "        optimizer.apply_gradients(zip(gradients, model.trainable_variables))\n",
    "\n",
    "        train_loss(loss)\n",
    "        train_accuracy(acc_function(tar_real, predictions))\n"
   ]
  },
  {
   "cell_type": "code",
   "execution_count": 15,
   "metadata": {},
   "outputs": [
    {
     "name": "stdout",
     "output_type": "stream",
     "text": [
      "\n",
      "EPOCH 1/3:\n"
     ]
    },
    {
     "name": "stderr",
     "output_type": "stream",
     "text": [
      "loss: 4.94108, accuracy: 0.24903: 100%|█████████▉| 662/663 [08:43<00:00,  1.24it/s]"
     ]
    }
   ],
   "source": [
    "EPOCHS = 3\n",
    "for epoch in range(EPOCHS):\n",
    "    start = time.time()\n",
    "\n",
    "    train_loss.reset_states()\n",
    "    train_accuracy.reset_states()\n",
    "\n",
    "    print(f\"\\nEPOCH {epoch+1}/{EPOCHS}:\")\n",
    "    pbar = tqdm.tqdm(batched_sentences)\n",
    "    for data in pbar:\n",
    "        inp, tar = data[:,0,:], data[:,1,:]\n",
    "        # inp = tf.cast(inp, tf.int64)\n",
    "        # tar = tf.cast(tar, tf.int64)\n",
    "        \n",
    "        train_step(inp, tar)\n",
    "        pbar.set_description(f\"loss: {train_loss.result():.5f}, accuracy: {train_accuracy.result():.5f}\")\n",
    "        ckpt_save_path = ckpt_manager.save()\n",
    "\n",
    "    print(f\"loss {train_loss.result()}\\t accuracy {train_accuracy.result()} in {np.round(time.time()-start, 2)} seconds\")\n",
    "    \n"
   ]
  },
  {
   "cell_type": "code",
   "execution_count": null,
   "metadata": {},
   "outputs": [],
   "source": [
    "class SentenceGenerator(tf.Module):\n",
    "  def __init__(self, transformer, start_token, end_token, pad_token):\n",
    "    self.transformer = transformer\n",
    "    self.start_token = start_token\n",
    "    self.end_token = end_token\n",
    "    self.pad_token = pad_token\n",
    "\n",
    "  def __call__(self, sentence, max_length=20, max_seq_length=127):\n",
    "    assert isinstance(sentence, tf.Tensor)\n",
    "    if len(sentence.shape) == 1:\n",
    "      sentence = sentence[tf.newaxis]\n",
    "\n",
    "    encoder_input = sentence\n",
    "    # `tf.TensorArray` is required here (instead of a python list) so that the\n",
    "    # dynamic-loop can be traced by `tf.function`.\n",
    "    output_array = tf.TensorArray(dtype=tf.int64, size=max_seq_length, dynamic_size=False)\n",
    "    start_char = [t.numpy() for t in encoder_input[-1] if t != self.start_token][-1]\n",
    "    output_array = output_array.write(0, tf.constant([start_char], dtype=tf.int64))\n",
    "\n",
    "    for i in tf.range(max_length):\n",
    "      output = tf.transpose(output_array.stack())\n",
    "      # print(encoder_input.shape, output.shape)\n",
    "      predictions, _ = self.transformer(\n",
    "          [encoder_input, output], training=False)\n",
    "\n",
    "      # return tf.argmax(predictions, -1)\n",
    "\n",
    "      # select the last token from the seq_len dimension\n",
    "      predictions = predictions[:, -1, :]  # (batch_size, 1, vocab_size)\n",
    "\n",
    "      predicted_id = tf.argmax(predictions, axis=-1)\n",
    "      # print(predicted_id)\n",
    "\n",
    "      # concatentate the predicted_id to the output which is given to the decoder\n",
    "      # as its input.\n",
    "      output_array = output_array.write(i+1, predicted_id)\n",
    "\n",
    "      # if predicted_id == self.end_token:\n",
    "      #   break\n",
    "\n",
    "    output = tf.transpose(output_array.stack())\n",
    "\n",
    "    return output\n"
   ]
  },
  {
   "cell_type": "code",
   "execution_count": null,
   "metadata": {},
   "outputs": [],
   "source": [
    "sent_gen = SentenceGenerator(\n",
    "    model, start_token=mask_token, end_token=None, pad_token=None)\n"
   ]
  },
  {
   "cell_type": "code",
   "execution_count": null,
   "metadata": {},
   "outputs": [
    {
     "name": "stdout",
     "output_type": "stream",
     "text": [
      "---------------------------------------------------------------------------\n",
      "Input Sequence: \n",
      " we're still working on it. sisko: well i guess the question is, how did they get aboard? or should i say, who placed them here? o'brien: i don't know who did it, but i know it definitely happened after we left the station. i ran a systems check before our departure. they weren't there then. sisko: which means someone aboard this ship is a saboteur. dax: we've got forty seven people on board. theoretically, anyone of them could've planted those devices. sisko: chief?\n",
      "\n",
      "Output Sequence: \n",
      "?::......:...........!!!!!!!!!!!!!!!!!!!!!!!!!!!!!!!!!!!!!!!!!!!!!!!!!!!!!!!!!!!!!!!!!!!!!!!!!!!!!!!!!!!!!!!!!!!!!!!!!!!!!!!!!!\n",
      "\n",
      "---------------------------------------------------------------------------\n",
      "Input Sequence: \n",
      " the gateway must be destroyed. agreed? sisko: agreed.[bridge] dax: let me get this straight. we're going to work with the jem'hadar to fight the jem'hadar. sisko: i don't relish this idea either, but we don't have much of a choice. worf: i was on the mission that discovered the iconian homeworld. we were forced to destroy the gateway we found there rather than let it fall into the hands of the romulans, and starfleet command supported our decision.\n",
      "\n",
      "Output Sequence: \n",
      ".::.....:............!!!!!!!!!!!!!!!!!!!!!!!!!!!!!!!!!!!!!!!!!!!!!!!!!!!!!!!!!!!!!!!!!!!!!!!!!!!!!!!!!!!!!!!!!!!!!!!!!!!!!!!!!!\n",
      "\n",
      "---------------------------------------------------------------------------\n",
      "Input Sequence: \n",
      ") (later, winn, sisko and kira are by bareil's bed.) bashir: well, it's a little early to tell, but i'm hoping he'll make a full recovery. he should be back on his feet again in a few weeks. sisko: you say that so calmly, but it's not every doctor that can lose a patient and then has him back on his feet in a few weeks. winn: indeed, you are too modest. you've performed nothing less than a miracle here. the prophets must walk with you, doctor.\n",
      "\n",
      "Output Sequence: \n",
      ".::.....:............!!!!!!!!!!!!!!!!!!!!!!!!!!!!!!!!!!!!!!!!!!!!!!!!!!!!!!!!!!!!!!!!!!!!!!!!!!!!!!!!!!!!!!!!!!!!!!!!!!!!!!!!!!\n",
      "\n",
      "---------------------------------------------------------------------------\n",
      "Input Sequence: \n",
      " (o'brien destroys the equipment.) o'brien: there. you can bring me up on charges when we get back, but there's nothing to keep you here now. so let's get going. (goran'agar shimmers in and knocks o'brien down.) goran'agar: you did this? o'brien: yes, i did. goran'agar: move. both of you. bashir: this won't goran'agar: no discussion. move.[jungle ] bashir: there still might be a way.\n",
      "\n",
      "Output Sequence: \n",
      ".::..................!!!!!!!!!!!!!!!!!!!!!!!!!!!!!!!!!!!!!!!!!!!!!!!!!!!!!!!!!!!!!!!!!!!!!!!!!!!!!!!!!!!!!!!!!!!!!!!!!!!!!!!!!!\n",
      "\n",
      "---------------------------------------------------------------------------\n",
      "Input Sequence: \n",
      " get some sleep. worf: no. i am a klingon warrior and a starfleet officer. i have piloted starships through dominion minefields. i have stood in battle against kelvans twice my size. i courted and won the heart of the magnificent jadzia dax. if i can do these things, i can make this child go to sleep. dax: talk about losing perspective. listen to yourself. why is this baby-sitting thing so important all of a sudden? worf: it is not important to me. it is important to you.\n",
      "\n",
      "Output Sequence: \n",
      ".::......:...........!!!!!!!!!!!!!!!!!!!!!!!!!!!!!!!!!!!!!!!!!!!!!!!!!!!!!!!!!!!!!!!!!!!!!!!!!!!!!!!!!!!!!!!!!!!!!!!!!!!!!!!!!!\n",
      "\n"
     ]
    }
   ],
   "source": [
    "for b_sent in batched_sentences.take(5):\n",
    "  # print(b_sent[0])\n",
    "  output = sent_gen(b_sent[0][0])\n",
    "  # print(output.numpy())\n",
    "  print(\"-\"*75)\n",
    "  print(f\"Input Sequence: \\n{tokenizer.decode(b_sent[0][0].numpy(), skip_special_tokens=True)}\\n\")\n",
    "  print(\n",
    "      f\"Output Sequence: \\n{tokenizer.decode(output.numpy()[0], skip_special_tokens=True)}\\n\")\n",
    "\n",
    "  # print(attention_weights)\n"
   ]
  }
 ],
 "metadata": {
  "interpreter": {
   "hash": "fdcdff60b67b05b67ad0ae04d8e5c3b481a43b83a699826d48039a1889185218"
  },
  "kernelspec": {
   "display_name": "Python 3.9.7 64-bit ('tf-gpu': conda)",
   "language": "python",
   "name": "python3"
  },
  "language_info": {
   "codemirror_mode": {
    "name": "ipython",
    "version": 3
   },
   "file_extension": ".py",
   "mimetype": "text/x-python",
   "name": "python",
   "nbconvert_exporter": "python",
   "pygments_lexer": "ipython3",
   "version": "3.9.7"
  },
  "orig_nbformat": 4
 },
 "nbformat": 4,
 "nbformat_minor": 2
}
