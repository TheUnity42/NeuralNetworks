{
 "cells": [
  {
   "cell_type": "code",
   "execution_count": 3,
   "metadata": {},
   "outputs": [],
   "source": [
    "import numpy as np\n",
    "import math\n",
    "import time\n",
    "import tensorflow as tf\n",
    "import matplotlib.pyplot as plt\n",
    "from icecream import ic"
   ]
  },
  {
   "cell_type": "code",
   "execution_count": 25,
   "metadata": {},
   "outputs": [],
   "source": [
    "def weighted_mean_and_std(values, weights):\n",
    "    \"\"\"\n",
    "    Return the weighted average and standard deviation.\n",
    "\n",
    "    values, weights -- Numpy ndarrays with the same shape.\n",
    "    \"\"\"\n",
    "    average = np.average(values, weights=weights)\n",
    "    variance = np.average((values-average)**2, weights=weights)\n",
    "    variance = variance * (len(values)) / (len(values) -1) \n",
    "    if len(values) == 1:\n",
    "        variance = 0\n",
    "    return (average, math.sqrt(variance))\n",
    "\n",
    "def weighted_mean_and_std_o(values, weights):\n",
    "    \"\"\"\n",
    "    Return the weighted average and standard deviation.\n",
    "    \"\"\"\n",
    "    sum_of_weights = np.sum(weights)\n",
    "    weighted_mean = np.sum(values * weights) / sum_of_weights\n",
    "    n = len(weights)\n",
    "    numerator = np.sum(n * weights * (values - weighted_mean)**2)\n",
    "    denominator = sum_of_weights * (n - 1)\n",
    "\n",
    "    if denominator == 0:\n",
    "        return weighted_mean, 0\n",
    "    else:\n",
    "        return weighted_mean, math.sqrt(numerator / denominator)"
   ]
  },
  {
   "cell_type": "code",
   "execution_count": 26,
   "metadata": {},
   "outputs": [
    {
     "name": "stdout",
     "output_type": "stream",
     "text": [
      "(1.0, 0.0)\n",
      "(1.0, 0)\n"
     ]
    },
    {
     "name": "stderr",
     "output_type": "stream",
     "text": [
      "C:\\Users\\jtalo\\AppData\\Local\\Temp/ipykernel_20100/1648419039.py:9: RuntimeWarning: invalid value encountered in double_scalars\n",
      "  variance = variance * (len(values)) / (len(values) -1)\n"
     ]
    }
   ],
   "source": [
    "values = np.array([1])\n",
    "weights = np.array([1])\n",
    "print(weighted_mean_and_std(values, weights))\n",
    "print(weighted_mean_and_std_o(values, weights))"
   ]
  },
  {
   "cell_type": "code",
   "execution_count": 27,
   "metadata": {},
   "outputs": [
    {
     "name": "stderr",
     "output_type": "stream",
     "text": [
      "C:\\Users\\jtalo\\AppData\\Local\\Temp/ipykernel_20100/1648419039.py:9: RuntimeWarning: invalid value encountered in double_scalars\n",
      "  variance = variance * (len(values)) / (len(values) -1)\n"
     ]
    },
    {
     "name": "stdout",
     "output_type": "stream",
     "text": [
      "math time: 3.465808629989624\n",
      "numpy time: 5.065503120422363\n"
     ]
    }
   ],
   "source": [
    "start = time.time()\n",
    "for i in range(100000):\n",
    "    weighted_mean_and_std(values, weights)\n",
    "print(\"math time:\", time.time() - start)\n",
    "for i in range(100000):\n",
    "    weighted_mean_and_std_o(values, weights)\n",
    "print(\"numpy time:\", time.time() - start)\n"
   ]
  },
  {
   "cell_type": "code",
   "execution_count": 137,
   "metadata": {},
   "outputs": [],
   "source": [
    "def f(x):\n",
    "    return tf.sin(x)\n",
    "\n",
    "def g(x):\n",
    "    return tf.cos(x)\n",
    "\n",
    "@tf.custom_gradient\n",
    "def revnet(x):\n",
    "    y1 = x[0] + f(x[1])\n",
    "    y2 = x[1] + g(y1)\n",
    "\n",
    "    def grad(dy):\n",
    "        with tf.GradientTape() as g_tape, tf.GradientTape() as f_tape, tf.GradientTape() as g_tape2, tf.GradientTape() as f_tape2:\n",
    "            z1 = y1\n",
    "            g_tape.watch(z1)\n",
    "            x2 = y2 - g(z1)\n",
    "            f_tape.watch(x2)\n",
    "            x1 = z1 - f(x2)\n",
    "            grad_g = g_tape.gradient(x2, z1)\n",
    "            grad_f = f_tape.gradient(x1, x2)\n",
    "        \n",
    "            z1bar = dy[0] + grad_g * dy[1]\n",
    "            x2bar = dy[1] + grad_f * z1bar\n",
    "\n",
    "        return tf.concat([x1, x2, z1bar, x2bar], axis=0)\n",
    "\n",
    "    return tf.concat([y1, y2], axis=0), grad\n"
   ]
  },
  {
   "cell_type": "code",
   "execution_count": 138,
   "metadata": {},
   "outputs": [
    {
     "name": "stderr",
     "output_type": "stream",
     "text": [
      "ic| z: <tf.Tensor: shape=(2,), dtype=float32, numpy=array([1.4794255, 0.5912437], dtype=float32)>\n",
      "ic| dz: <tf.Tensor: shape=(4,), dtype=float32, numpy=array([ 1.       ,  0.5      ,  1.9958286, -0.7515044], dtype=float32)>\n"
     ]
    },
    {
     "data": {
      "text/plain": [
       "<tf.Tensor: shape=(4,), dtype=float32, numpy=array([ 1.       ,  0.5      ,  1.9958286, -0.7515044], dtype=float32)>"
      ]
     },
     "execution_count": 138,
     "metadata": {},
     "output_type": "execute_result"
    }
   ],
   "source": [
    "x = tf.Variable([1,0.5])\n",
    "\n",
    "\n",
    "with tf.GradientTape() as tape:\n",
    "    z = revnet(x)\n",
    "\n",
    "dz = tape.gradient(z, x)\n",
    "\n",
    "ic(z)\n",
    "ic(dz)\n",
    "\n",
    "\n"
   ]
  },
  {
   "cell_type": "code",
   "execution_count": null,
   "metadata": {},
   "outputs": [
    {
     "name": "stderr",
     "output_type": "stream",
     "text": [
      "ic| z: <tf.Tensor: shape=(2,), dtype=float32, numpy=array([0.5403023 , 0.87758255], dtype=float32)>\n",
      "ic| dz: <tf.Tensor: shape=(2,), dtype=float32, numpy=array([-0.841471  , -0.47942555], dtype=float32)>\n"
     ]
    },
    {
     "data": {
      "text/plain": [
       "<tf.Tensor: shape=(2,), dtype=float32, numpy=array([-0.841471  , -0.47942555], dtype=float32)>"
      ]
     },
     "execution_count": 133,
     "metadata": {},
     "output_type": "execute_result"
    }
   ],
   "source": [
    "with tf.GradientTape() as tape:\n",
    "    z = g(x)\n",
    "\n",
    "dz = tape.gradient(z, x)\n",
    "\n",
    "ic(z)\n",
    "ic(dz)"
   ]
  },
  {
   "cell_type": "code",
   "execution_count": null,
   "metadata": {},
   "outputs": [
    {
     "name": "stdout",
     "output_type": "stream",
     "text": [
      "tf.Tensor(2.0, shape=(), dtype=float32)\n"
     ]
    }
   ],
   "source": [
    "@tf.custom_gradient\n",
    "def clip_gradients(y):\n",
    "  def backward(dy):\n",
    "    return tf.clip_by_norm(dy, 0.5)\n",
    "  return y, backward\n",
    "\n",
    "\n",
    "v = tf.Variable(2.0)\n",
    "with tf.GradientTape() as t:\n",
    "  output = clip_gradients(v * v)\n",
    "print(t.gradient(output, v))  # calls \"backward\", which clips 4 to 2\n"
   ]
  },
  {
   "cell_type": "markdown",
   "metadata": {},
   "source": [
    "$2-2cos^2-sin^2 = 2-cos^2-cos^2-sin^2=2-cos^2-(cos^2+sin^2)=2-cos^2-1=1-cos^2$"
   ]
  }
 ],
 "metadata": {
  "interpreter": {
   "hash": "fdcdff60b67b05b67ad0ae04d8e5c3b481a43b83a699826d48039a1889185218"
  },
  "kernelspec": {
   "display_name": "Python 3.9.7 64-bit ('tf-gpu': conda)",
   "language": "python",
   "name": "python3"
  },
  "language_info": {
   "codemirror_mode": {
    "name": "ipython",
    "version": 3
   },
   "file_extension": ".py",
   "mimetype": "text/x-python",
   "name": "python",
   "nbconvert_exporter": "python",
   "pygments_lexer": "ipython3",
   "version": "3.9.7"
  },
  "orig_nbformat": 4
 },
 "nbformat": 4,
 "nbformat_minor": 2
}
