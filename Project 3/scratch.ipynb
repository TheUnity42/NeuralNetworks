{
 "cells": [
  {
   "cell_type": "code",
   "execution_count": 1,
   "metadata": {},
   "outputs": [],
   "source": [
    "import re\n",
    "import numpy as np\n",
    "import tensorflow as tf\n",
    "import pandas as pd\n",
    "from icecream import ic\n",
    "import time\n",
    "\n",
    "from Attention import *"
   ]
  },
  {
   "cell_type": "code",
   "execution_count": 2,
   "metadata": {},
   "outputs": [],
   "source": [
    "find_tokens = re.compile(r\"[\\w']+|[.,!?:;\\[\\]\\(\\)]\")\n",
    "\n",
    "def load_tokens(tokens_file):\n",
    "    \"\"\"\n",
    "        Load the pre-trained word embeddings from the embedding file\n",
    "        \"\"\"\n",
    "    # Load the word tokens\n",
    "    tokens = pd.read_csv(tokens_file, index_col=0)\n",
    "    tokens = tokens.index.values\n",
    "    tokens_dict = {}\n",
    "    tokens_dict['to_token'] = {token: i for i, token in enumerate(tokens)}\n",
    "    tokens_dict['to_word'] = {i: token for i, token in enumerate(tokens)}\n",
    "    return tokens_dict\n",
    "\n",
    "def sim_tokenize(text, tokens_dict):\n",
    "    \"\"\"\n",
    "        Tokenize the text and return the token indices\n",
    "        \"\"\"\n",
    "    # Tokenize the text\n",
    "    tokens = find_tokens.findall(text.lower())\n",
    "\n",
    "    # Get the token indices\n",
    "    tokens_indices = [tokens_dict['to_token'][token] for token in tokens]\n",
    "    tokens_indices.insert(0, tokens_dict['to_token']['<start>'])\n",
    "    tokens_indices.append(tokens_dict['to_token']['<end>'])\n",
    "    [tokens_indices.append(tokens_dict['to_token']['<pad>']) for i in range(10)]\n",
    "    return tokens_indices\n",
    "\n",
    "def detokenize(tokens_indices, tokens_dict):\n",
    "    \"\"\"\n",
    "        Convert the token indices to text\n",
    "        \"\"\"\n",
    "    # Detokenize the text\n",
    "    tokens = [tokens_dict['to_word'][i] for i in tokens_indices]\n",
    "    text = ' '.join(tokens).replace('<pad>', '')\n",
    "    return text\n",
    "\n",
    "def benchmark(func, verbose=False):\n",
    "    \"\"\"\n",
    "        Decorator to benchmark a function\n",
    "        \"\"\"\n",
    "    def wrapper(*args, **kwargs):\n",
    "        start = time.time()\n",
    "        result = func(*args, **kwargs)\n",
    "        end = time.time()\n",
    "        if verbose:\n",
    "            print('{} took {} seconds'.format(func.__name__, end - start))\n",
    "        return end - start, result\n",
    "    return wrapper\n"
   ]
  },
  {
   "cell_type": "code",
   "execution_count": 3,
   "metadata": {},
   "outputs": [
    {
     "name": "stderr",
     "output_type": "stream",
     "text": [
      "ic| 'loaded tokens'\n"
     ]
    },
    {
     "data": {
      "text/plain": [
       "'loaded tokens'"
      ]
     },
     "execution_count": 3,
     "metadata": {},
     "output_type": "execute_result"
    }
   ],
   "source": [
    "tok = load_tokens('tokens.csv')\n",
    "ic(\"loaded tokens\")"
   ]
  },
  {
   "cell_type": "code",
   "execution_count": 4,
   "metadata": {},
   "outputs": [
    {
     "name": "stdout",
     "output_type": "stream",
     "text": [
      "Tokenized: [3, 11, 166, 12, 870, 4325, 5, 4, 0, 0, 0, 0, 0, 0, 0, 0, 0, 0]\n",
      "Rebuilt: <start> i am a test sentence . <end>          \n"
     ]
    }
   ],
   "source": [
    "tokenized = sim_tokenize('I am a test sentence.', tok)\n",
    "rebuilt = detokenize(tokenized, tok)\n",
    "print(f\"Tokenized: {tokenized}\")\n",
    "print(f\"Rebuilt: {rebuilt}\")"
   ]
  },
  {
   "cell_type": "code",
   "execution_count": 5,
   "metadata": {},
   "outputs": [],
   "source": [
    "# q:  (128, 8, 96, 16) k:  (128, 8, 96, 16) v:  (128, 8, 96, 16)\n",
    "x = tf.random.uniform((128, 96, 128))\n",
    "\n",
    "# mha = MultiHeadAttention(128, 8)\n",
    "\n",
    "# output, attn = mha(x, x, x, None)\n",
    "# print(output.shape, attn.shape)"
   ]
  },
  {
   "cell_type": "code",
   "execution_count": 6,
   "metadata": {},
   "outputs": [],
   "source": [
    "# q:  (128, 8, 96, 16) k:  (128, 8, 96, 16) v:  (128, 8, 96, 16)\n",
    "x = tf.random.uniform((128, 96, 128))\n",
    "\n",
    "# mha = Fastformer_MultiHeadAttention(128, 8, 96)\n",
    "\n",
    "# output = mha(x, x, x, None)\n",
    "# print(output.shape, attn.shape)\n"
   ]
  },
  {
   "cell_type": "code",
   "execution_count": 7,
   "metadata": {},
   "outputs": [],
   "source": [
    "class LinearAttention(tf.keras.layers.Layer):\n",
    "    def __init__(self, feature_map):\n",
    "        super(LinearAttention, self).__init__()\n",
    "        self.feature_map = feature_map\n",
    "\n",
    "    def build(self, input_shape):\n",
    "        self.wQ = self.add_weight(name='wQ', shape=(\n",
    "            input_shape[-1][-1], input_shape[-1][-1]), initializer='glorot_uniform')\n",
    "        self.wK = self.add_weight(name='wK', shape=(\n",
    "            input_shape[-1][-1], input_shape[-1][-1]), initializer='glorot_uniform')\n",
    "        self.wV = self.add_weight(name='wV', shape=(\n",
    "            input_shape[-1][-1], input_shape[-1][-1]), initializer='glorot_uniform')\n",
    "\n",
    "    def call(self, inputs, **kwargs):\n",
    "        # inputs: [q, k, v] for each: (batch_size, seq_len, d_model)\n",
    "        q = tf.matmul(inputs[0], self.wQ)\n",
    "        k = tf.matmul(inputs[1], self.wK)\n",
    "        v = tf.matmul(inputs[2], self.wV)\n",
    "\n",
    "        fQ = self.feature_map(q)\n",
    "        fK = self.feature_map(k)\n",
    "                \n",
    "        return self.linear_attention(fQ, fK, v)\n",
    "\n",
    "    # @tf.custom_gradient\n",
    "    def linear_attention(self, q, k, v):\n",
    "        \"\"\"\n",
    "            Compute the linear attention\n",
    "        \"\"\"\n",
    "\n",
    "        Z = 1/tf.einsum('bsi,bsi->bsi', q, tf.cumsum(k, axis=1))\n",
    "        S = tf.cumsum(tf.einsum('bsi,bsi->bsi', q, v), axis=1)\n",
    "\n",
    "        Vp = tf.multiply(q, S)\n",
    "        Vp = tf.realdiv(Vp, Z)\n",
    "\n",
    "        return Vp\n",
    "\n",
    "\n"
   ]
  },
  {
   "cell_type": "code",
   "execution_count": 8,
   "metadata": {},
   "outputs": [
    {
     "name": "stdout",
     "output_type": "stream",
     "text": [
      "Linear Attention: 0.0015714981127530336\n",
      "Scaled Dot Product Attention: 0.005390692502260208\n"
     ]
    }
   ],
   "source": [
    "# q:  (16, 8, 96, 16) k:  (16, 8, 96, 16) v:  (16, 8, 96, 16)\n",
    "x = tf.random.uniform((16, 8, 96, 16))\n",
    "\n",
    "lat = tf.keras.metrics.Mean()\n",
    "sdpat = tf.keras.metrics.Mean()\n",
    "\n",
    "for i in range(1000):\n",
    "    la_time, _ = benchmark(AttentionUtils.build_linear_attention())(x, x, x, None)\n",
    "    sdpa_time, _ = benchmark(AttentionUtils.scaled_dot_product_attention)(x, x, x, None)\n",
    "\n",
    "    lat(la_time)\n",
    "    sdpat(sdpa_time)\n",
    "\n",
    "print(f\"Linear Attention: {lat.result()}\")\n",
    "print(f\"Scaled Dot Product Attention: {sdpat.result()}\")\n"
   ]
  },
  {
   "cell_type": "code",
   "execution_count": 9,
   "metadata": {},
   "outputs": [
    {
     "ename": "NameError",
     "evalue": "name 'offsetElu' is not defined",
     "output_type": "error",
     "traceback": [
      "\u001b[1;31m---------------------------------------------------------------------------\u001b[0m",
      "\u001b[1;31mNameError\u001b[0m                                 Traceback (most recent call last)",
      "\u001b[1;32m~\\AppData\\Local\\Temp/ipykernel_21876/619872897.py\u001b[0m in \u001b[0;36m<module>\u001b[1;34m\u001b[0m\n\u001b[0;32m      5\u001b[0m \u001b[0mv\u001b[0m \u001b[1;33m=\u001b[0m \u001b[0mtf\u001b[0m\u001b[1;33m.\u001b[0m\u001b[0mconstant\u001b[0m\u001b[1;33m(\u001b[0m\u001b[1;33m[\u001b[0m\u001b[1;33m[\u001b[0m\u001b[1;33m[\u001b[0m\u001b[1;36m1\u001b[0m\u001b[1;33m]\u001b[0m\u001b[1;33m,\u001b[0m \u001b[1;33m[\u001b[0m\u001b[1;36m0\u001b[0m\u001b[1;33m]\u001b[0m\u001b[1;33m,\u001b[0m \u001b[1;33m[\u001b[0m\u001b[1;36m0\u001b[0m\u001b[1;33m]\u001b[0m\u001b[1;33m,\u001b[0m \u001b[1;33m[\u001b[0m\u001b[1;36m1\u001b[0m\u001b[1;33m]\u001b[0m\u001b[1;33m]\u001b[0m\u001b[1;33m]\u001b[0m\u001b[1;33m,\u001b[0m \u001b[0mdtype\u001b[0m\u001b[1;33m=\u001b[0m\u001b[0mtf\u001b[0m\u001b[1;33m.\u001b[0m\u001b[0mfloat32\u001b[0m\u001b[1;33m)\u001b[0m\u001b[1;33m\u001b[0m\u001b[1;33m\u001b[0m\u001b[0m\n\u001b[0;32m      6\u001b[0m \u001b[1;33m\u001b[0m\u001b[0m\n\u001b[1;32m----> 7\u001b[1;33m \u001b[0mattn\u001b[0m \u001b[1;33m=\u001b[0m \u001b[0mLinearAttention\u001b[0m\u001b[1;33m(\u001b[0m\u001b[0moffsetElu\u001b[0m\u001b[1;33m)\u001b[0m\u001b[1;33m\u001b[0m\u001b[1;33m\u001b[0m\u001b[0m\n\u001b[0m\u001b[0;32m      8\u001b[0m \u001b[1;33m@\u001b[0m\u001b[0mtf\u001b[0m\u001b[1;33m.\u001b[0m\u001b[0mfunction\u001b[0m\u001b[1;33m\u001b[0m\u001b[1;33m\u001b[0m\u001b[0m\n\u001b[0;32m      9\u001b[0m \u001b[1;32mdef\u001b[0m \u001b[0mtrace\u001b[0m\u001b[1;33m(\u001b[0m\u001b[0mattn\u001b[0m\u001b[1;33m,\u001b[0m \u001b[0mq\u001b[0m\u001b[1;33m,\u001b[0m \u001b[0mk\u001b[0m\u001b[1;33m,\u001b[0m \u001b[0mv\u001b[0m\u001b[1;33m)\u001b[0m\u001b[1;33m:\u001b[0m\u001b[1;33m\u001b[0m\u001b[1;33m\u001b[0m\u001b[0m\n",
      "\u001b[1;31mNameError\u001b[0m: name 'offsetElu' is not defined"
     ]
    }
   ],
   "source": [
    "# q:  (16, 96, 128) k: (16, 96, 128) v: (16, 96, 128)\n",
    "\n",
    "q = tf.constant([[[1], [1], [0], [0]]], dtype=tf.float32)\n",
    "k = tf.constant([[[0], [0], [1], [0]]], dtype=tf.float32)\n",
    "v = tf.constant([[[1], [0], [0], [1]]], dtype=tf.float32)\n",
    "\n",
    "attn = LinearAttention(offsetElu)\n",
    "@tf.function\n",
    "def trace(attn, q, k, v):\n",
    "    out = attn([q, k, v])\n",
    "    # ic(tf.shape(out))\n",
    "    # ic(x, out)\n"
   ]
  },
  {
   "cell_type": "code",
   "execution_count": null,
   "metadata": {},
   "outputs": [],
   "source": [
    "logdir = \"logs/scratch/\" + \"1\"\n",
    "writer = tf.summary.create_file_writer(logdir)\n",
    "tf.summary.trace_on(graph=True, profiler=True)\n",
    "\n",
    "z = trace(attn, q, k, v)\n",
    "\n",
    "with writer.as_default():\n",
    "    tf.summary.trace_export(\n",
    "        name=\"my_func_trace\",\n",
    "        step=0,\n",
    "        profiler_outdir=logdir)\n"
   ]
  },
  {
   "cell_type": "code",
   "execution_count": 38,
   "metadata": {},
   "outputs": [
    {
     "name": "stderr",
     "output_type": "stream",
     "text": [
      "ic| x: array([ 0.2 , -0.2 ,  0.5 ,  0.1 ,  0.1 ,  0.05])\n",
      "ic| softmax(x): array([0.17572958, 0.11779506, 0.23721012, 0.1590067 , 0.1590067 ,\n",
      "                       0.15125185])\n",
      "    softmax(x).sum(): 1.0\n",
      "ic| other(x): array([ 0.20728218, -0.1389454 ,  0.69950419,  0.09377834,  0.09377834,\n",
      "                      0.04460236])\n",
      "    other(x).sum(): 1.0\n"
     ]
    },
    {
     "data": {
      "text/plain": [
       "<BarContainer object of 6 artists>"
      ]
     },
     "execution_count": 38,
     "metadata": {},
     "output_type": "execute_result"
    },
    {
     "data": {
      "image/png": "[encoded data removed]",
      "text/plain": [
       "<Figure size 432x288 with 1 Axes>"
      ]
     },
     "metadata": {},
     "output_type": "display_data"
    }
   ],
   "source": [
    "x = np.array([0.2, -0.2, 0.5, 0.1, 0.1, 0.05])\n",
    "y = np.random.normal(size=(4,))\n",
    "\n",
    "\n",
    "def softmax(x):\n",
    "    \"\"\"\n",
    "    Compute softmax values for each sets of scores in x.\n",
    "    \"\"\"\n",
    "    e_x = np.exp(x - np.max(x))\n",
    "    return e_x / e_x.sum()\n",
    "\n",
    "def other(x):\n",
    "    e_x = x * np.exp(x)\n",
    "    return e_x / e_x.sum()\n",
    "\n",
    "def sigmoid(x):\n",
    "    return 1 / (1 + np.exp(-x))\n",
    "\n",
    "def elu(x):\n",
    "    return np.where(x > 0, x, np.exp(x) - 1)\n",
    "\n",
    "def relu(x):\n",
    "    return np.where(x > 0, x, 0)\n",
    "\n",
    "ic(x)\n",
    "ic(softmax(x), softmax(x).sum())\n",
    "ic(other(x), other(x).sum())\n",
    "\n",
    "plt.bar(range(x.shape[0]), x, color='b', width=1)\n",
    "plt.bar(range(x.shape[0]), x*softmax(x), color='r', width=0.75)\n",
    "plt.bar(range(x.shape[0]), x*other(x), color='g', width=0.25)\n"
   ]
  },
  {
   "cell_type": "code",
   "execution_count": 85,
   "metadata": {},
   "outputs": [
    {
     "name": "stderr",
     "output_type": "stream",
     "text": [
      "ic| x: array([[ 0.58822898,  0.37919909],\n",
      "              [ 1.02745957, -0.98468681],\n",
      "              [-0.52169526,  0.60847083],\n",
      "              [ 0.32607259, -1.04714176]])\n",
      "ic| km: array([[ 0.33380641, -0.345894  ],\n",
      "               [-1.05766241,  0.90951329]])\n",
      "ic| k: array([[-0.20471002,  0.14142174],\n",
      "              [ 1.38443882, -1.25097784],\n",
      "              [-0.81770195,  0.73386357],\n",
      "              [ 1.2163676 , -1.0651759 ]])\n",
      "ic| gk: array([0.72898509, 0.07737827])\n"
     ]
    },
    {
     "data": {
      "text/plain": [
       "array([0.72898509, 0.07737827])"
      ]
     },
     "execution_count": 85,
     "metadata": {},
     "output_type": "execute_result"
    }
   ],
   "source": [
    "x = np.random.normal(size=(4,2))\n",
    "ic(x)\n",
    "\n",
    "km = np.random.normal(size=(2,2))\n",
    "ic(km)\n",
    "\n",
    "k = x@km\n",
    "ic(k)\n",
    "\n",
    "gk = k*softmax(k)\n",
    "gk = gk.sum(axis=0)\n",
    "ic(gk)"
   ]
  },
  {
   "cell_type": "code",
   "execution_count": 86,
   "metadata": {},
   "outputs": [
    {
     "data": {
      "image/png": "[encoded data removed]",
      "text/plain": [
       "<Figure size 864x432 with 8 Axes>"
      ]
     },
     "metadata": {},
     "output_type": "display_data"
    }
   ],
   "source": [
    "fig, ax = plt.subplots(2, x.shape[0], figsize=(x.shape[0]*3, x.shape[1]*3))\n",
    "for a in ax.flatten():\n",
    "    a.set_xlim(x.min(), x.max())\n",
    "    a.set_ylim(x.min(), x.max())\n",
    "for r in range(x.shape[0]):\n",
    "    ax[0,r].arrow(0, 0, x[r,0], x[r,1], head_width=0.05)\n",
    "    ax[1,r].arrow(0, 0, k[r,0], k[r,1], head_width=0.05)   "
   ]
  },
  {
   "cell_type": "code",
   "execution_count": 87,
   "metadata": {},
   "outputs": [
    {
     "data": {
      "text/plain": [
       "(-1.0471417595057255, 1.027459571914494)"
      ]
     },
     "execution_count": 87,
     "metadata": {},
     "output_type": "execute_result"
    },
    {
     "data": {
      "image/png": "[encoded data removed]",
      "text/plain": [
       "<Figure size 432x288 with 1 Axes>"
      ]
     },
     "metadata": {},
     "output_type": "display_data"
    }
   ],
   "source": [
    "fig, ax = plt.subplots(1, 1)\n",
    "ax.arrow(0, 0, gk[0], gk[1], head_width=0.05)\n",
    "ax.set_xlim(x.min(), x.max())\n",
    "ax.set_ylim(x.min(), x.max())"
   ]
  },
  {
   "cell_type": "code",
   "execution_count": null,
   "metadata": {},
   "outputs": [],
   "source": [
    "# values: (seq_length, d_model)\n",
    "# keys: (seq_length, k_emb)\n",
    "# global keys: (key_length, k_emb)\n",
    "\n",
    "# (S, D) @ (D, K) -> (S, K)\n",
    "# (Kl, S) @ (S, K) -> (Kl, K)\n",
    "\n",
    "# generate keys (seq_length, k_emb)\n",
    "# (S, D) @ (D, K) -> (S, K)\n",
    "# generate global keys (key_length, k_emb)\n",
    "# (Kl, S) @ (S, K) -> (Kl, K)\n",
    "# map global keys to keys\n",
    "# (S, K) . (Kl, K) -> (S, Kl, K)\n",
    "# embed keys\n",
    "# (S, Kl, K) -> (S, K)"
   ]
  }
 ],
 "metadata": {
  "interpreter": {
   "hash": "fdcdff60b67b05b67ad0ae04d8e5c3b481a43b83a699826d48039a1889185218"
  },
  "kernelspec": {
   "display_name": "Python 3.9.7 64-bit ('tf-gpu': conda)",
   "language": "python",
   "name": "python3"
  },
  "language_info": {
   "codemirror_mode": {
    "name": "ipython",
    "version": 3
   },
   "file_extension": ".py",
   "mimetype": "text/x-python",
   "name": "python",
   "nbconvert_exporter": "python",
   "pygments_lexer": "ipython3",
   "version": "3.9.7"
  },
  "orig_nbformat": 4
 },
 "nbformat": 4,
 "nbformat_minor": 2
}
