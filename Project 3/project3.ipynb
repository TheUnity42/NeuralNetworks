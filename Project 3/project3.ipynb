{
 "cells": [
  {
   "cell_type": "code",
   "execution_count": 1,
   "metadata": {},
   "outputs": [],
   "source": [
    "import json\n",
    "import re\n",
    "import pandas as pd\n",
    "import numpy as np\n",
    "import matplotlib.pyplot as plt\n",
    "import seaborn as sns"
   ]
  },
  {
   "cell_type": "code",
   "execution_count": 2,
   "metadata": {},
   "outputs": [],
   "source": [
    "f = open(\"all_scripts_raw.json\", \"r\")\n",
    "data = json.load(f)"
   ]
  },
  {
   "cell_type": "code",
   "execution_count": 3,
   "metadata": {},
   "outputs": [
    {
     "name": "stdout",
     "output_type": "stream",
     "text": [
      "dict_keys(['DS9', 'TOS', 'TAS', 'TNG', 'VOY', 'ENT'])\n"
     ]
    },
    {
     "data": {
      "text/html": [
       "<div>\n",
       "<style scoped>\n",
       "    .dataframe tbody tr th:only-of-type {\n",
       "        vertical-align: middle;\n",
       "    }\n",
       "\n",
       "    .dataframe tbody tr th {\n",
       "        vertical-align: top;\n",
       "    }\n",
       "\n",
       "    .dataframe thead th {\n",
       "        text-align: right;\n",
       "    }\n",
       "</style>\n",
       "<table border=\"1\" class=\"dataframe\">\n",
       "  <thead>\n",
       "    <tr style=\"text-align: right;\">\n",
       "      <th></th>\n",
       "      <th>DS9</th>\n",
       "      <th>TOS</th>\n",
       "      <th>TAS</th>\n",
       "      <th>TNG</th>\n",
       "      <th>VOY</th>\n",
       "      <th>ENT</th>\n",
       "    </tr>\n",
       "  </thead>\n",
       "  <tbody>\n",
       "    <tr>\n",
       "      <th>episode 0</th>\n",
       "      <td>\\n\\n\\n\\n\\n\\nThe Deep Space Nine Transcripts - ...</td>\n",
       "      <td>\\n\\n\\n\\n\\n\\nThe Star Trek Transcripts - The Ca...</td>\n",
       "      <td>\\n\\n\\n\\n\\n\\nThe Animated Star Trek Transcripts...</td>\n",
       "      <td>\\n\\n\\n\\n\\n\\nThe Next Generation Transcripts - ...</td>\n",
       "      <td>\\n\\n\\n\\n\\nThe Voyager Transcripts - Caretaker\\...</td>\n",
       "      <td>\\n\\n\\n\\n\\n\\nThe Enterprise Transcripts - Broke...</td>\n",
       "    </tr>\n",
       "    <tr>\n",
       "      <th>episode 1</th>\n",
       "      <td>\\n\\n\\n\\n\\n\\nThe Deep Space Nine Transcripts - ...</td>\n",
       "      <td>\\n\\n\\n\\n\\n\\nThe Star Trek Transcripts - The Ma...</td>\n",
       "      <td>\\n\\n\\n\\n\\n\\nThe Animated Star Trek Transcripts...</td>\n",
       "      <td>\\n\\n\\n\\n\\n\\nThe Next Generation Transcripts - ...</td>\n",
       "      <td>\\n\\n\\n\\n\\n\\nThe Voyager Transcripts - Parallax...</td>\n",
       "      <td>\\n\\n\\n\\n\\n\\nThe Enterprise Transcripts - Fight...</td>\n",
       "    </tr>\n",
       "    <tr>\n",
       "      <th>episode 2</th>\n",
       "      <td>\\n\\n\\n\\n\\n\\nThe Deep Space Nine Transcripts - ...</td>\n",
       "      <td>\\n\\n\\n\\n\\n\\nThe Star Trek Transcripts - Charli...</td>\n",
       "      <td>\\n\\n\\n\\n\\n\\nThe Animated Star Trek Transcripts...</td>\n",
       "      <td>\\n\\n\\n\\n\\n\\nThe Next Generation Transcripts - ...</td>\n",
       "      <td>\\n\\n\\n\\n\\n\\nThe Voyager Transcripts - Time and...</td>\n",
       "      <td>\\n\\n\\n\\n\\n\\nThe Enterprise Transcripts - Stran...</td>\n",
       "    </tr>\n",
       "    <tr>\n",
       "      <th>episode 3</th>\n",
       "      <td>\\n\\n\\n\\n\\n\\nThe Deep Space Nine Transcripts - ...</td>\n",
       "      <td>\\n\\n\\n\\n\\n\\nThe Star Trek Transcripts - Where ...</td>\n",
       "      <td>\\n\\n\\n\\n\\n\\nThe Animated Star Trek Transcripts...</td>\n",
       "      <td>\\n\\n\\n\\n\\n\\nThe Next Generation Transcripts - ...</td>\n",
       "      <td>\\n\\n\\n\\n\\n\\n\\nThe Voyager Transcripts - Phage\\...</td>\n",
       "      <td>\\n\\n\\n\\n\\n\\nThe Enterprise Transcripts - Unexp...</td>\n",
       "    </tr>\n",
       "    <tr>\n",
       "      <th>episode 4</th>\n",
       "      <td>\\n\\n\\n\\n\\n\\nThe Deep Space Nine Transcripts - ...</td>\n",
       "      <td>\\n\\n\\n\\n\\n\\nThe Star Trek Transcripts - The Na...</td>\n",
       "      <td>\\n\\n\\n\\n\\n\\nThe Animated Star Trek Transcripts...</td>\n",
       "      <td>\\n\\n\\n\\n\\n\\nThe Next Generation Transcripts - ...</td>\n",
       "      <td>\\n\\n\\n\\n\\n\\nThe Voyager Transcripts - The Clou...</td>\n",
       "      <td>\\n\\n\\n\\n\\n\\nThe Enterprise Transcripts - Terra...</td>\n",
       "    </tr>\n",
       "  </tbody>\n",
       "</table>\n",
       "</div>"
      ],
      "text/plain": [
       "                                                         DS9  \\\n",
       "episode 0  \\n\\n\\n\\n\\n\\nThe Deep Space Nine Transcripts - ...   \n",
       "episode 1  \\n\\n\\n\\n\\n\\nThe Deep Space Nine Transcripts - ...   \n",
       "episode 2  \\n\\n\\n\\n\\n\\nThe Deep Space Nine Transcripts - ...   \n",
       "episode 3  \\n\\n\\n\\n\\n\\nThe Deep Space Nine Transcripts - ...   \n",
       "episode 4  \\n\\n\\n\\n\\n\\nThe Deep Space Nine Transcripts - ...   \n",
       "\n",
       "                                                         TOS  \\\n",
       "episode 0  \\n\\n\\n\\n\\n\\nThe Star Trek Transcripts - The Ca...   \n",
       "episode 1  \\n\\n\\n\\n\\n\\nThe Star Trek Transcripts - The Ma...   \n",
       "episode 2  \\n\\n\\n\\n\\n\\nThe Star Trek Transcripts - Charli...   \n",
       "episode 3  \\n\\n\\n\\n\\n\\nThe Star Trek Transcripts - Where ...   \n",
       "episode 4  \\n\\n\\n\\n\\n\\nThe Star Trek Transcripts - The Na...   \n",
       "\n",
       "                                                         TAS  \\\n",
       "episode 0  \\n\\n\\n\\n\\n\\nThe Animated Star Trek Transcripts...   \n",
       "episode 1  \\n\\n\\n\\n\\n\\nThe Animated Star Trek Transcripts...   \n",
       "episode 2  \\n\\n\\n\\n\\n\\nThe Animated Star Trek Transcripts...   \n",
       "episode 3  \\n\\n\\n\\n\\n\\nThe Animated Star Trek Transcripts...   \n",
       "episode 4  \\n\\n\\n\\n\\n\\nThe Animated Star Trek Transcripts...   \n",
       "\n",
       "                                                         TNG  \\\n",
       "episode 0  \\n\\n\\n\\n\\n\\nThe Next Generation Transcripts - ...   \n",
       "episode 1  \\n\\n\\n\\n\\n\\nThe Next Generation Transcripts - ...   \n",
       "episode 2  \\n\\n\\n\\n\\n\\nThe Next Generation Transcripts - ...   \n",
       "episode 3  \\n\\n\\n\\n\\n\\nThe Next Generation Transcripts - ...   \n",
       "episode 4  \\n\\n\\n\\n\\n\\nThe Next Generation Transcripts - ...   \n",
       "\n",
       "                                                         VOY  \\\n",
       "episode 0  \\n\\n\\n\\n\\nThe Voyager Transcripts - Caretaker\\...   \n",
       "episode 1  \\n\\n\\n\\n\\n\\nThe Voyager Transcripts - Parallax...   \n",
       "episode 2  \\n\\n\\n\\n\\n\\nThe Voyager Transcripts - Time and...   \n",
       "episode 3  \\n\\n\\n\\n\\n\\n\\nThe Voyager Transcripts - Phage\\...   \n",
       "episode 4  \\n\\n\\n\\n\\n\\nThe Voyager Transcripts - The Clou...   \n",
       "\n",
       "                                                         ENT  \n",
       "episode 0  \\n\\n\\n\\n\\n\\nThe Enterprise Transcripts - Broke...  \n",
       "episode 1  \\n\\n\\n\\n\\n\\nThe Enterprise Transcripts - Fight...  \n",
       "episode 2  \\n\\n\\n\\n\\n\\nThe Enterprise Transcripts - Stran...  \n",
       "episode 3  \\n\\n\\n\\n\\n\\nThe Enterprise Transcripts - Unexp...  \n",
       "episode 4  \\n\\n\\n\\n\\n\\nThe Enterprise Transcripts - Terra...  "
      ]
     },
     "execution_count": 3,
     "metadata": {},
     "output_type": "execute_result"
    }
   ],
   "source": [
    "print(data.keys())\n",
    "df = pd.DataFrame(data)\n",
    "df.head()"
   ]
  },
  {
   "cell_type": "code",
   "execution_count": 4,
   "metadata": {},
   "outputs": [],
   "source": [
    "for series in df:\n",
    "    for ep in df[series].index:\n",
    "        if type(df[series][ep]) == str:\n",
    "            df[series][ep] = re.sub(r'\\s+', ' ', df[series][ep].strip())\n",
    "\n",
    "# df['DS9'][0]"
   ]
  },
  {
   "cell_type": "code",
   "execution_count": 5,
   "metadata": {},
   "outputs": [],
   "source": [
    "df_scenes = df.copy()"
   ]
  },
  {
   "cell_type": "code",
   "execution_count": 6,
   "metadata": {},
   "outputs": [
    {
     "data": {
      "text/plain": [
       "['This is a regex test ',\n",
       " '[bracket] other text ',\n",
       " '[Ops] is here ',\n",
       " '[test] more text [OC] this is comms [on screen] yo']"
      ]
     },
     "execution_count": 6,
     "metadata": {},
     "output_type": "execute_result"
    }
   ],
   "source": [
    "s = \"This is a regex test [bracket] other text [Ops] is here [test] more text [OC] this is comms [on screen] yo\"\n",
    "scene_regex = re.compile(r'(?=[\\[]+(?!OC)+(?!on))')\n",
    "scene_regex.split(s)"
   ]
  },
  {
   "cell_type": "code",
   "execution_count": 8,
   "metadata": {},
   "outputs": [],
   "source": [
    "for series in df_scenes:\n",
    "    for ep in df_scenes[series].index:\n",
    "        if type(df[series][ep]) == str:\n",
    "            df_scenes[series][ep] = scene_regex.split(df_scenes[series][ep])"
   ]
  },
  {
   "cell_type": "code",
   "execution_count": 9,
   "metadata": {},
   "outputs": [
    {
     "data": {
      "text/plain": [
       "['The Deep Space Nine Transcripts - Past Prologue Past Prologue Stardate: Unknown Original Airdate: 11 Jan, 1993 ',\n",
       " \"[Replimat] GARAK: It's Doctor Bashir, isn't it? Of course it is. May I introduce myself? BASHIR: Er, yes, yes, of course. GARAK: My name is Garak. Cardassian by birth, obviously. The only one of us left on this station, as a matter of fact, so I do appreciate making new friends whenever I can. You are new to this station, I believe. BASHIR: I am, yes. Though, though I understand you've been here quite a while. GARAK: Ah, you know of me then. BASHIR: Would you care for some of this Tarkalean tea? It's very good. GARAK: What a thoughtful young man. How nice that we've met. BASHIR: You know, some people say that you remained on DS Nine as the eyes and ears of your fellow Cardassians. GARAK: You don't say? Doctor, you're not intimating that I'm considered some sort of spy, are you? BASHIR: I wouldn't know, sir. GARAK: Ah. An open mind. The essence of intellect. As you may also know, I have a clothing shop nearby, so if you should require any apparel, or merely wish, as I do, for a bit of enjoyable company now and then, I'm at your disposal, Doctor. BASHIR: You're very kind, Mister Garak. GARAK: Oh, it's just Garak. Plain, simple Garak. Now, good day to you, Doctor. I'm so glad to have made such an interesting new friend today. \",\n",
       " \"[Ops] BASHIR: You won't never believe who just sat down next to me at the Replimat O'BRIEN: Major, upper pylon three'll be shut down for maintenance for forty-eight hours. BASHIR: The spy! Garak, the Cardassian. SISKO: We don't know for a fact Garak's a spy, Doctor. BASHIR: He is. You should have heard him. He introduced himself and he struck up conversation just like that. he was making contact with me, with me of all people. DAX: What do you think he might want from you, Julian? BASHIR: I don't know. Federation medical secrets? Rest assured they're safe with me, Commander. SISKO: I'm sure they are, Doctor Bashir. BASHIR: In fact, Chief O'Brien, I think you should place a monitoring device on me. Well, just in case he's up to something? SISKO: I don't think that'll be necessary, Doctor. Just be very cautious when you're around him. KIRA: (who's had a hair cut) Commander? We've got a small craft taking evasive action. Cardassian war vessel in pursuit. SISKO: On screen. KIRA: That's Bajoran. That damned Cardassian's firing at a Bajoran scout ship in Bajoran space! SISKO: Mister O'Brien? O'BRIEN: Confirmed, sir. They've crossed into Bajoran space. SISKO: Open a hailing frequency to the Cardassians. O'BRIEN: Channel open. SISKO: Cardassian vessel, you are violating Bajoran space. Break off your pursuit. Repeat, break off now. O'BRIEN: No reply from the Cardassians. The Bajoran vessel is hailing us. SISKO: Open the channel. TAHNA [OC]: Space station, do you read? Space station O'BRIEN: We can only get audio, Commander. SISKO: This is Benjamin Sisko, Starfleet Commander of the station. Who are you? Why are they pursuing? TAHNA [OC]: Please! Repeating request for emergency docking! Please! DAX: The Bajoran scout ship is badly damaged. Structural integrity is failing. (The little ship gets hit again) DAX: He's breaking up. SISKO: Get him out, Mister O'Brien. O'BRIEN: Aye, sir. (KaBOOM, and a crouching figure is beamed in) BASHIR: Medical assistance to Ops. TAHNA: My name is Tahna Los. Request political asylum. Kira? (after the opening credits, medics are wheeling Tahna away) KIRA: His name is Tahna Los. We fought together in the underground. O'BRIEN: Commander, the Cardassians are hailing us. KIRA: Now they want to talk. O'BRIEN: They're hopping mad. SISKO: Open the channel, Mister O'Brien. GUL DANAR [on viewscreen]: Federation Commander, you've taken aboard a known criminal. You will turn him over to us. SISKO: He has requested asylum. GUL DANAR [on viewscreen]: You have not granted it. SISKO: To be honest, I haven't decided yet. GUL DANAR [on viewscreen]: He is Kohn-Ma! Even the Bajorans would not grant his kind asylum. He has committed heinous crimes against the Cardassian people and I demand you release him to our custody. SISKO: I'll investigate the matter immediately. In the interim, if you'd care to dock your vessel, I'll be glad to hear an explanation for having violated Bajoran space and threatened a Federation facility. GUL DANAR [on viewscreen]: We have made no threat to your facility. SISKO: I stand corrected. Sisko out. (transmission ends) SISKO: The Major and I will be at the Infirmary. I'd like some time to talk with this fellow Tahna. When Gul Danar comes in, it'd be nice if we had a few docking regulations to keep him outside a while. O'BRIEN: Understood. (Sisko and Kira get onto the lift) KIRA: You're not seriously considering handing Tahna over to the Cardassians? \"]"
      ]
     },
     "execution_count": 9,
     "metadata": {},
     "output_type": "execute_result"
    }
   ],
   "source": [
    "df_scenes['DS9'][1][:3]"
   ]
  },
  {
   "cell_type": "code",
   "execution_count": 11,
   "metadata": {},
   "outputs": [],
   "source": [
    "class Vocab:\n",
    "    def __init__(self):\n",
    "        self.words = []\n",
    "        self.word_count = []\n",
    "        self.df = pd.DataFrame(columns=['word', 'count'])\n",
    "\n",
    "    def add_word(self, word):\n",
    "        if word in self.words:\n",
    "            self.word_count[self.words.index(word)] += 1\n",
    "        else:\n",
    "            self.words.append(word)\n",
    "            self.word_count.append(1)\n",
    "\n",
    "    def get_word_count(self, word):\n",
    "        if word in self.words:\n",
    "            return self.word_count[self.words.index(word)]\n",
    "        else:\n",
    "            return 0\n",
    "\n",
    "    def rebuild_dataframe(self):\n",
    "        self.df = pd.DataFrame({\"word\": vocab.words, \"count\": vocab.word_count})\n",
    "        self.df.sort_values('count', ascending=False, inplace=True)\n",
    "\n",
    "    def get_as_dataframe(self):\n",
    "        return self.df\n",
    "\n",
    "    def get_total_size(self):\n",
    "        return sum(self.word_count)\n",
    "\n",
    "    def __len__(self):\n",
    "        return len(self.words)\n",
    "\n",
    "    def get_words(self, sorted=True):\n",
    "        # if sorted:\n",
    "        #     return self.words.sort_values('count', ascending=False)\n",
    "        # else:\n",
    "        return self.words\n",
    "\n",
    "    def tokenize(s):\n",
    "        if type(s) == str:\n",
    "            s = find_tokens.findall(s.lower().strip())\n",
    "\n",
    "        tok = []\n",
    "        for t in s:\n",
    "            if t.isdigit():\n",
    "                for d in re.findall(r'(\\d)', t):\n",
    "                    tok.append(tokens[d])\n",
    "            elif t in tokens:\n",
    "                tok.append(tokens[t])\n",
    "            else:\n",
    "                tok.append(tokens[\"<unk>\"])\n",
    "\n",
    "        return tok\n",
    "\n",
    "\n",
    "    def inv_tokenize(s):\n",
    "        return \" \".join([words_from_token[t] for t in s])\n",
    "    \n"
   ]
  },
  {
   "cell_type": "code",
   "execution_count": 10,
   "metadata": {},
   "outputs": [],
   "source": [
    "split_words = re.compile(r'[\\s\\[\\]\\(\\),.?!:]')\n",
    "split_sentence = re.compile(r'(?<=[?!.])(?![\\d]+)')\n",
    "find_tokens = re.compile(r\"[\\w']+|[.,!?:;\\[\\]\\(\\)]\")\n"
   ]
  },
  {
   "cell_type": "code",
   "execution_count": 13,
   "metadata": {},
   "outputs": [
    {
     "name": "stdout",
     "output_type": "stream",
     "text": [
      "Loading words...\n",
      "Finished loading DS9\n",
      "Finished loading TOS\n",
      "Finished loading TAS\n",
      "Finished loading TNG\n",
      "Finished loading VOY\n",
      "Finished loading ENT\n",
      "Unique words: 43493\n",
      "Generating Dataframe...\n",
      "Done!\n"
     ]
    }
   ],
   "source": [
    "# vocab = Vocab()\n",
    "\n",
    "# print(\"Loading words...\")\n",
    "\n",
    "# for series in df:\n",
    "#     for ep in df[series]:\n",
    "#         if type(ep) != str:\n",
    "#             continue\n",
    "#         word_split = find_tokens.findall(ep.lower().strip()) #re.split(r'[\\s\\[\\]\\(\\),.?!:]', ep.lower().strip())\n",
    "        \n",
    "#         words = [w.strip() for w in word_split if w != '' and not w.isdigit()]\n",
    "#         nums = [w for w in word_split if w.isdigit()]\n",
    "#         digits = []\n",
    "#         for n in nums:\n",
    "#             l = re.split(r'(\\d)', n)\n",
    "#             for d in l:\n",
    "#                 if d.isdigit():\n",
    "#                     digits.append(d)\n",
    "\n",
    "#         for w in words:\n",
    "#             vocab.add_word(w)\n",
    "\n",
    "#         for w in digits:\n",
    "#             vocab.add_word(w)\n",
    "#     print(f\"Finished loading {series}\")\n",
    "\n",
    "# print(\"Unique words:\", len(vocab))\n",
    "# print(\"Generating Dataframe...\")\n",
    "# vocab.rebuild_dataframe()\n",
    "# vocab.get_as_dataframe().to_csv('all_vocab.csv')\n",
    "# print(\"Done!\")\n",
    "\n",
    "# vocab.get_as_dataframe().head()\n",
    "# re.split(r'[\\s\\[\\]\\(\\),.?!:]+', df_scenes['DS9'][1][1].strip())"
   ]
  },
  {
   "cell_type": "code",
   "execution_count": 14,
   "metadata": {},
   "outputs": [],
   "source": [
    "voc_df = pd.read_csv(\"all_vocab.csv\")"
   ]
  },
  {
   "cell_type": "code",
   "execution_count": 15,
   "metadata": {},
   "outputs": [
    {
     "name": "stdout",
     "output_type": "stream",
     "text": [
      "4817376 4905882 0.9819592073351948\n"
     ]
    },
    {
     "data": {
      "text/html": [
       "<div>\n",
       "<style scoped>\n",
       "    .dataframe tbody tr th:only-of-type {\n",
       "        vertical-align: middle;\n",
       "    }\n",
       "\n",
       "    .dataframe tbody tr th {\n",
       "        vertical-align: top;\n",
       "    }\n",
       "\n",
       "    .dataframe thead th {\n",
       "        text-align: right;\n",
       "    }\n",
       "</style>\n",
       "<table border=\"1\" class=\"dataframe\">\n",
       "  <thead>\n",
       "    <tr style=\"text-align: right;\">\n",
       "      <th></th>\n",
       "      <th>token</th>\n",
       "      <th>word</th>\n",
       "      <th>count</th>\n",
       "    </tr>\n",
       "  </thead>\n",
       "  <tbody>\n",
       "    <tr>\n",
       "      <th>0</th>\n",
       "      <td>8</td>\n",
       "      <td>.</td>\n",
       "      <td>409502</td>\n",
       "    </tr>\n",
       "    <tr>\n",
       "      <th>1</th>\n",
       "      <td>7</td>\n",
       "      <td>:</td>\n",
       "      <td>270065</td>\n",
       "    </tr>\n",
       "    <tr>\n",
       "      <th>2</th>\n",
       "      <td>12</td>\n",
       "      <td>,</td>\n",
       "      <td>169143</td>\n",
       "    </tr>\n",
       "    <tr>\n",
       "      <th>3</th>\n",
       "      <td>0</td>\n",
       "      <td>the</td>\n",
       "      <td>146906</td>\n",
       "    </tr>\n",
       "    <tr>\n",
       "      <th>4</th>\n",
       "      <td>38</td>\n",
       "      <td>to</td>\n",
       "      <td>110449</td>\n",
       "    </tr>\n",
       "  </tbody>\n",
       "</table>\n",
       "</div>"
      ],
      "text/plain": [
       "   token word   count\n",
       "0      8    .  409502\n",
       "1      7    :  270065\n",
       "2     12    ,  169143\n",
       "3      0  the  146906\n",
       "4     38   to  110449"
      ]
     },
     "execution_count": 15,
     "metadata": {},
     "output_type": "execute_result"
    }
   ],
   "source": [
    "voc_df.columns = ['token', 'word', 'count']\n",
    "voc_max_size = voc_df['count'].sum()\n",
    "voc_df = voc_df[:12000]\n",
    "voc_size = voc_df['count'].sum()\n",
    "\n",
    "print(voc_size, voc_max_size, voc_size/voc_max_size)\n",
    "voc_df.head()"
   ]
  },
  {
   "cell_type": "code",
   "execution_count": 16,
   "metadata": {},
   "outputs": [
    {
     "name": "stdout",
     "output_type": "stream",
     "text": [
      "12005\n"
     ]
    }
   ],
   "source": [
    "extra_tokens = [\"<pad>\", \"<unk>\", \"<mask>\", \"<start>\", \"<end>\"]\n",
    "\n",
    "tokens = {t: i for i, t in enumerate(extra_tokens + voc_df['word'].tolist())}\n",
    "words_from_token = {i: t for i, t in enumerate(extra_tokens + voc_df['word'].tolist())}\n",
    "voc_size = len(tokens)\n",
    "print(voc_size)"
   ]
  },
  {
   "cell_type": "code",
   "execution_count": 17,
   "metadata": {},
   "outputs": [
    {
     "data": {
      "text/html": [
       "<div>\n",
       "<style scoped>\n",
       "    .dataframe tbody tr th:only-of-type {\n",
       "        vertical-align: middle;\n",
       "    }\n",
       "\n",
       "    .dataframe tbody tr th {\n",
       "        vertical-align: top;\n",
       "    }\n",
       "\n",
       "    .dataframe thead th {\n",
       "        text-align: right;\n",
       "    }\n",
       "</style>\n",
       "<table border=\"1\" class=\"dataframe\">\n",
       "  <thead>\n",
       "    <tr style=\"text-align: right;\">\n",
       "      <th></th>\n",
       "      <th>0</th>\n",
       "    </tr>\n",
       "  </thead>\n",
       "  <tbody>\n",
       "    <tr>\n",
       "      <th>&lt;pad&gt;</th>\n",
       "      <td>0</td>\n",
       "    </tr>\n",
       "    <tr>\n",
       "      <th>&lt;unk&gt;</th>\n",
       "      <td>1</td>\n",
       "    </tr>\n",
       "    <tr>\n",
       "      <th>&lt;mask&gt;</th>\n",
       "      <td>2</td>\n",
       "    </tr>\n",
       "    <tr>\n",
       "      <th>&lt;start&gt;</th>\n",
       "      <td>3</td>\n",
       "    </tr>\n",
       "    <tr>\n",
       "      <th>&lt;end&gt;</th>\n",
       "      <td>4</td>\n",
       "    </tr>\n",
       "  </tbody>\n",
       "</table>\n",
       "</div>"
      ],
      "text/plain": [
       "         0\n",
       "<pad>    0\n",
       "<unk>    1\n",
       "<mask>   2\n",
       "<start>  3\n",
       "<end>    4"
      ]
     },
     "execution_count": 17,
     "metadata": {},
     "output_type": "execute_result"
    }
   ],
   "source": [
    "tok = pd.DataFrame(columns=['token', 'word']).from_dict(tokens, orient='index')\n",
    "tok.to_csv('tokens.csv')\n",
    "tok.head()"
   ]
  },
  {
   "cell_type": "code",
   "execution_count": 12,
   "metadata": {},
   "outputs": [
    {
     "ename": "NameError",
     "evalue": "name 'tokens' is not defined",
     "output_type": "error",
     "traceback": [
      "\u001b[1;31m---------------------------------------------------------------------------\u001b[0m",
      "\u001b[1;31mNameError\u001b[0m                                 Traceback (most recent call last)",
      "\u001b[1;32m~\\AppData\\Local\\Temp/ipykernel_15408/3012541662.py\u001b[0m in \u001b[0;36m<module>\u001b[1;34m\u001b[0m\n\u001b[0;32m     18\u001b[0m     \u001b[1;32mreturn\u001b[0m \u001b[1;34m\" \"\u001b[0m\u001b[1;33m.\u001b[0m\u001b[0mjoin\u001b[0m\u001b[1;33m(\u001b[0m\u001b[1;33m[\u001b[0m\u001b[0mwords_from_token\u001b[0m\u001b[1;33m[\u001b[0m\u001b[0mt\u001b[0m\u001b[1;33m]\u001b[0m \u001b[1;32mfor\u001b[0m \u001b[0mt\u001b[0m \u001b[1;32min\u001b[0m \u001b[0ms\u001b[0m\u001b[1;33m]\u001b[0m\u001b[1;33m)\u001b[0m\u001b[1;33m\u001b[0m\u001b[1;33m\u001b[0m\u001b[0m\n\u001b[0;32m     19\u001b[0m \u001b[1;33m\u001b[0m\u001b[0m\n\u001b[1;32m---> 20\u001b[1;33m \u001b[0mtest\u001b[0m \u001b[1;33m=\u001b[0m \u001b[0mtokenize\u001b[0m\u001b[1;33m(\u001b[0m\u001b[1;34m\"<start> this is a test <end>\"\u001b[0m\u001b[1;33m)\u001b[0m\u001b[1;33m\u001b[0m\u001b[1;33m\u001b[0m\u001b[0m\n\u001b[0m",
      "\u001b[1;32m~\\AppData\\Local\\Temp/ipykernel_15408/3012541662.py\u001b[0m in \u001b[0;36mtokenize\u001b[1;34m(s)\u001b[0m\n\u001b[0;32m      8\u001b[0m             \u001b[1;32mfor\u001b[0m \u001b[0md\u001b[0m \u001b[1;32min\u001b[0m \u001b[0mre\u001b[0m\u001b[1;33m.\u001b[0m\u001b[0mfindall\u001b[0m\u001b[1;33m(\u001b[0m\u001b[1;34mr'(\\d)'\u001b[0m\u001b[1;33m,\u001b[0m \u001b[0mt\u001b[0m\u001b[1;33m)\u001b[0m\u001b[1;33m:\u001b[0m\u001b[1;33m\u001b[0m\u001b[1;33m\u001b[0m\u001b[0m\n\u001b[0;32m      9\u001b[0m                 \u001b[0mtok\u001b[0m\u001b[1;33m.\u001b[0m\u001b[0mappend\u001b[0m\u001b[1;33m(\u001b[0m\u001b[0mtokens\u001b[0m\u001b[1;33m[\u001b[0m\u001b[0md\u001b[0m\u001b[1;33m]\u001b[0m\u001b[1;33m)\u001b[0m\u001b[1;33m\u001b[0m\u001b[1;33m\u001b[0m\u001b[0m\n\u001b[1;32m---> 10\u001b[1;33m         \u001b[1;32melif\u001b[0m \u001b[0mt\u001b[0m \u001b[1;32min\u001b[0m \u001b[0mtokens\u001b[0m\u001b[1;33m:\u001b[0m\u001b[1;33m\u001b[0m\u001b[1;33m\u001b[0m\u001b[0m\n\u001b[0m\u001b[0;32m     11\u001b[0m             \u001b[0mtok\u001b[0m\u001b[1;33m.\u001b[0m\u001b[0mappend\u001b[0m\u001b[1;33m(\u001b[0m\u001b[0mtokens\u001b[0m\u001b[1;33m[\u001b[0m\u001b[0mt\u001b[0m\u001b[1;33m]\u001b[0m\u001b[1;33m)\u001b[0m\u001b[1;33m\u001b[0m\u001b[1;33m\u001b[0m\u001b[0m\n\u001b[0;32m     12\u001b[0m         \u001b[1;32melse\u001b[0m\u001b[1;33m:\u001b[0m\u001b[1;33m\u001b[0m\u001b[1;33m\u001b[0m\u001b[0m\n",
      "\u001b[1;31mNameError\u001b[0m: name 'tokens' is not defined"
     ]
    }
   ],
   "source": [
    "def tokenize(s):\n",
    "    if type(s) == str:\n",
    "        s = find_tokens.findall(s.lower().strip())    \n",
    "    \n",
    "    tok = []\n",
    "    for t in s:\n",
    "        if t.isdigit():\n",
    "            for d in re.findall(r'(\\d)', t):\n",
    "                tok.append(tokens[d])\n",
    "        elif t in tokens:\n",
    "            tok.append(tokens[t])\n",
    "        else:\n",
    "            tok.append(tokens[\"<unk>\"])\n",
    "\n",
    "    return tok\n",
    "\n",
    "def inv_tokenize(s):\n",
    "    return \" \".join([words_from_token[t] for t in s])\n",
    "\n",
    "test = tokenize(\"<start> this is a test <end>\")"
   ]
  },
  {
   "cell_type": "code",
   "execution_count": 19,
   "metadata": {},
   "outputs": [],
   "source": [
    "voc_df.to_csv(\"tokens.csv\")"
   ]
  },
  {
   "cell_type": "code",
   "execution_count": 20,
   "metadata": {},
   "outputs": [
    {
     "data": {
      "text/plain": [
       "12005"
      ]
     },
     "execution_count": 20,
     "metadata": {},
     "output_type": "execute_result"
    }
   ],
   "source": [
    "len(tokens)"
   ]
  },
  {
   "cell_type": "code",
   "execution_count": 11,
   "metadata": {},
   "outputs": [],
   "source": [
    "split_sentence = re.compile(r'(?<=[?!.])(?![\\d]+)')\n",
    "find_tokens = re.compile(r\"[\\w']+|[.,!?:;\\[\\]\\(\\)]\")\n"
   ]
  },
  {
   "cell_type": "code",
   "execution_count": 22,
   "metadata": {},
   "outputs": [
    {
     "name": "stdout",
     "output_type": "stream",
     "text": [
      "the deep space nine transcripts - emissary emissary stardate: 46379.1 original airdate: 3 jan, 1993 on stardate 43997, captain jean-luc picard of the federation starship enterprise was kidnapped for six days by an invading force known as the borg. surgically altered, he was forced to lead an assault on starfleet at wolf 359.\n",
      "['the deep space nine transcripts - emissary emissary stardate: 46379.1 original airdate: 3 jan, 1993 on stardate 43997, captain jean-luc picard of the federation starship enterprise was kidnapped for six days by an invading force known as the borg.', ' surgically altered, he was forced to lead an assault on starfleet at wolf 359.', '']\n"
     ]
    }
   ],
   "source": [
    "s = df_scenes['DS9'][0][0].strip().lower()\n",
    "print(s)\n",
    "print(split_sentence.split(s))"
   ]
  },
  {
   "cell_type": "code",
   "execution_count": 23,
   "metadata": {},
   "outputs": [
    {
     "name": "stdout",
     "output_type": "stream",
     "text": [
      "['the', 'deep', 'space', 'nine', 'transcripts', 'emissary', 'emissary', 'stardate', ':', '46379', '.', '1', 'original', 'airdate', ':', '3', 'jan', ',', '1993', 'on', 'stardate', '43997', ',', 'captain', 'jean', 'luc', 'picard', 'of', 'the', 'federation', 'starship', 'enterprise', 'was', 'kidnapped', 'for', 'six', 'days', 'by', 'an', 'invading', 'force', 'known', 'as', 'the', 'borg', '.', 'surgically', 'altered', ',', 'he', 'was', 'forced', 'to', 'lead', 'an', 'assault', 'on', 'starfleet', 'at', 'wolf', '359', '.']\n",
      "[3, 8, 713, 291, 293, 664, 1746, 1746, 357, 6, 268, 247, 345, 400, 222, 5, 196, 523, 674, 6, 345, 4068, 7, 196, 222, 222, 345, 25, 357, 268, 345, 222, 222, 400, 7, 46, 1008, 1024, 48, 14, 8, 284, 594, 188, 39, 5033, 30, 325, 349, 99, 65, 9060, 676, 688, 53, 8, 351, 5, 4]\n",
      "<start> the deep space nine transcripts emissary emissary stardate : 4 6 3 7 9 . 1 original airdate : 3 jan , 1 9 9 3 on stardate 4 3 9 9 7 , captain jean luc picard of the federation starship enterprise was kidnapped for six days by an invading force known as the borg . <end>\n"
     ]
    }
   ],
   "source": [
    "sentences = []\n",
    "words = []\n",
    "print(find_tokens.findall(s))\n",
    "for sentence in split_sentence.split(s):\n",
    "    sent = tokenize(sentence)\n",
    "    words.extend(sent)\n",
    "    sent.insert(0, tokens['<start>'])\n",
    "    sent.append(tokens[\"<end>\"])\n",
    "    print(sent)\n",
    "    print(inv_tokenize(sent))\n",
    "    break"
   ]
  },
  {
   "cell_type": "code",
   "execution_count": 12,
   "metadata": {},
   "outputs": [
    {
     "name": "stdout",
     "output_type": "stream",
     "text": [
      "building sentence corpus...\n",
      "Finished loading DS9\n",
      "Finished loading TOS\n",
      "Finished loading TAS\n",
      "Finished loading TNG\n",
      "Finished loading VOY\n",
      "Finished loading ENT\n",
      "Done!\n"
     ]
    }
   ],
   "source": [
    "sentences = {}\n",
    "raw_sentences = []\n",
    "words = []\n",
    "print(\"building sentence corpus...\")\n",
    "for series in df_scenes:\n",
    "    sentences[series] = []\n",
    "    for ep in df_scenes[series]:\n",
    "        if type(ep) != list:\n",
    "            continue\n",
    "\n",
    "        for scene in ep:\n",
    "            if type(scene) != str:\n",
    "                continue\n",
    "            # words.extend(split_words.split(scene.strip().lower()))\n",
    "            for s in split_sentence.split(scene.strip().lower()):\n",
    "                raw_sentences.append(s)     \n",
    "                # sent = tokenize(s)\n",
    "                # sent.insert(0, tokens['<start>'])\n",
    "                # sent.append(tokens[\"<end>\"])\n",
    "                # if len(sent) > 2:\n",
    "                    # sentences[series].append(sent)\n",
    "\n",
    "                    # words.extend(sent)\n",
    "                # print(find_tokens.findall(s.strip().lower()))\n",
    "                \n",
    "\n",
    "         \n",
    "    print(f\"Finished loading {series}\")\n",
    "\n",
    "print(\"Done!\")   \n"
   ]
  },
  {
   "cell_type": "code",
   "execution_count": 95,
   "metadata": {},
   "outputs": [
    {
     "name": "stdout",
     "output_type": "stream",
     "text": [
      "5891248\n",
      "[3, 8, 713, 291, 293, 664, 1746, 1746, 357, 6, 268, 247, 345, 400, 222, 5, 196, 523, 674, 6, 345, 4068, 7, 196, 222, 222, 345, 25, 357, 268, 345, 222, 222, 400, 7, 46, 1008, 1024, 48, 14, 8, 284, 594, 188, 39, 5033, 30, 325, 349, 99, 65, 9060, 676, 688, 53, 8, 351, 5, 4, 3, 7761, 2011, 7, 43, 39, 1338, 9, 1033, 65, 2682, 25, 226, 56, 6668, 345, 355, 222, 5, 4, 3, 18, 11651, 92, 19, 9583, 18, 25, 229, 19, 6, 1632, 17, 4102, 5, 4, 3, 10, 57, 4914, 31]\n"
     ]
    }
   ],
   "source": [
    "words = [w for w in words if w != '']\n",
    "print(len(words))\n",
    "print(words[0:100])"
   ]
  },
  {
   "cell_type": "code",
   "execution_count": 51,
   "metadata": {},
   "outputs": [
    {
     "name": "stdout",
     "output_type": "stream",
     "text": [
      "<start> the deep space nine transcripts emissary emissary stardate : 4 6 3 7 9 . 1 original airdate : 3 jan , 1 9 9 3 on stardate 4 3 9 9 7 , captain jean luc picard of the federation starship enterprise was kidnapped for six days by an invading force known as the borg . <end>\n",
      "max length: 78\n"
     ]
    }
   ],
   "source": [
    "print(inv_tokenize(sentences['DS9'][0]))\n",
    "\n",
    "max_length = 0\n",
    "for series in sentences:\n",
    "    for sent in sentences[series]:\n",
    "        if len(sent) > max_length:\n",
    "            max_length = len(sent)\n",
    "print(\"max length:\", max_length)"
   ]
  },
  {
   "cell_type": "code",
   "execution_count": 13,
   "metadata": {},
   "outputs": [],
   "source": [
    "import tensorflow as tf\n",
    "import tqdm\n",
    "import numpy as np\n",
    "from tensorflow.keras.layers import Input, Dense, Dropout, Activation\n",
    "from tensorflow.keras.models import Model\n",
    "from tensorflow.keras.utils import Sequence\n",
    "\n",
    "from transformers import GPT2Tokenizer\n",
    "\n",
    "tf.keras.backend.clear_session()\n"
   ]
  },
  {
   "cell_type": "code",
   "execution_count": 37,
   "metadata": {},
   "outputs": [
    {
     "name": "stderr",
     "output_type": "stream",
     "text": [
      "100%|██████████| 122505/122505 [08:39<00:00, 235.72it/s]\n"
     ]
    }
   ],
   "source": [
    "def generate_skip_grams(sentences, window_size, num_ns, vocab_size, sampling_factor=1e-3, SEED=0):\n",
    "    targets, contexts, labels = [], [], []\n",
    "    \n",
    "    sampling_table = tf.keras.preprocessing.sequence.make_sampling_table(\n",
    "        vocab_size, sampling_factor=sampling_factor)\n",
    "\n",
    "    for sentence in tqdm.tqdm(sentences):\n",
    "        skip_grams, _ = tf.keras.preprocessing.sequence.skipgrams(sentence, vocabulary_size=vocab_size, \n",
    "            window_size=window_size, sampling_table=sampling_table, negative_samples=num_ns)\n",
    "\n",
    "        for target_word, context_words in skip_grams:\n",
    "            context_class = tf.expand_dims(tf.constant([context_words], dtype=tf.int64), 1)\n",
    "            negative_sampling_candidates, _, _ = tf.random.log_uniform_candidate_sampler(\n",
    "                true_classes=context_class,\n",
    "                num_true=1,\n",
    "                num_sampled=num_ns,\n",
    "                unique=True,\n",
    "                range_max=vocab_size,\n",
    "                seed=SEED,\n",
    "                name=\"negative_sampling\")\n",
    "\n",
    "            # Build context and label vectors (for one target word)\n",
    "            negative_sampling_candidates = tf.expand_dims(\n",
    "                negative_sampling_candidates, 1)\n",
    "\n",
    "            context = tf.concat(\n",
    "                      [context_class, negative_sampling_candidates], 0)\n",
    "            label = tf.constant([1] + [0]*num_ns, dtype=\"int64\")\n",
    "\n",
    "            # Append each element from the training example to global lists.\n",
    "            targets.append(target_word)\n",
    "            contexts.append(context)\n",
    "            labels.append(label)\n",
    "\n",
    "    \n",
    "    return targets, contexts, labels\n",
    "\n",
    "\n",
    "\n",
    "sg = generate_skip_grams(sentences['DS9'], window_size=1, num_ns=3, vocab_size=len(tokens), sampling_factor=1e-5 , SEED=0)\n"
   ]
  },
  {
   "cell_type": "code",
   "execution_count": 38,
   "metadata": {},
   "outputs": [
    {
     "name": "stdout",
     "output_type": "stream",
     "text": [
      "(1138984,) (1138984, 4) (1138984, 4)\n"
     ]
    }
   ],
   "source": [
    "targets = np.array(sg[0])\n",
    "contexts = np.array(sg[1])[:,:,0]\n",
    "labels = np.array(sg[2])\n",
    "print(targets.shape, contexts.shape, labels.shape)"
   ]
  },
  {
   "cell_type": "code",
   "execution_count": 39,
   "metadata": {},
   "outputs": [
    {
     "data": {
      "text/plain": [
       "<BatchDataset shapes: (((1024,), (1024, 4)), (1024, 4)), types: ((tf.int32, tf.int64), tf.int64)>"
      ]
     },
     "execution_count": 39,
     "metadata": {},
     "output_type": "execute_result"
    }
   ],
   "source": [
    "BUFFER_SIZE = 10000\n",
    "BATCH_SIZE = 1024\n",
    "\n",
    "skipgram_dataset = tf.data.Dataset.from_tensor_slices(((targets, contexts), labels))\n",
    "skipgram_dataset = skipgram_dataset.shuffle(BUFFER_SIZE).batch(BATCH_SIZE, drop_remainder=True)\n",
    "skipgram_dataset"
   ]
  },
  {
   "cell_type": "code",
   "execution_count": 40,
   "metadata": {},
   "outputs": [
    {
     "name": "stdout",
     "output_type": "stream",
     "text": [
      "<PrefetchDataset shapes: (((1024,), (1024, 4)), (1024, 4)), types: ((tf.int32, tf.int64), tf.int64)>\n"
     ]
    }
   ],
   "source": [
    "skipgram_dataset = skipgram_dataset.prefetch(tf.data.experimental.AUTOTUNE)\n",
    "print(skipgram_dataset)"
   ]
  },
  {
   "cell_type": "code",
   "execution_count": 41,
   "metadata": {},
   "outputs": [
    {
     "name": "stdout",
     "output_type": "stream",
     "text": [
      "[0.00996828 0.00996828 0.01731655 ... 1.         1.         1.        ]\n",
      "[[869, 472], [420, 12146], [869, 2855], [869, 9349], [869, 11], [869, 9933], [869, 26], [26, 8479], [26, 16], [420, 11066], [420, 2269], [26, 9020], [26, 11], [420, 26], [869, 2042], [420, 16], [869, 16], [869, 8225], [420, 11], [26, 4442], [869, 9598], [26, 1618], [26, 420], [869, 10861], [869, 5309], [26, 196], [26, 9912], [26, 869], [26, 8820], [26, 7178], [420, 1229], [420, 2221], [420, 859]]\n",
      "[1, 0, 0, 0, 1, 0, 1, 0, 1, 0, 0, 0, 1, 1, 0, 1, 1, 0, 1, 0, 0, 0, 1, 0, 0, 0, 0, 1, 0, 0, 0, 0, 0]\n",
      "33\n"
     ]
    }
   ],
   "source": [
    "window_size = 3\n",
    "\n",
    "# Build the sampling table for vocab_size tokens.\n",
    "sampling_table = tf.keras.preprocessing.sequence.make_sampling_table(len(tokens), sampling_factor=1e-4)\n",
    "print(sampling_table)\n",
    "\n",
    "pos_skip_grams, is_neg = tf.keras.preprocessing.sequence.skipgrams(test, vocabulary_size=len(tokens),\n",
    "    window_size=window_size, negative_samples=2, sampling_table=sampling_table)\n",
    "print(pos_skip_grams)\n",
    "print(is_neg)\n",
    "print(len(pos_skip_grams))"
   ]
  },
  {
   "cell_type": "code",
   "execution_count": 42,
   "metadata": {},
   "outputs": [],
   "source": [
    "class Word2Vec(tf.keras.Model):\n",
    "  def __init__(self, vocab_size, embedding_dim, samples):\n",
    "    super(Word2Vec, self).__init__()\n",
    "    self.target_embedding = tf.keras.layers.Embedding(vocab_size,\n",
    "                                             embedding_dim,\n",
    "                                             input_length=1,\n",
    "                                             name=\"w2v_embedding\")\n",
    "    self.context_embedding = tf.keras.layers.Embedding(vocab_size,\n",
    "                                              embedding_dim,\n",
    "                                              input_length=samples)\n",
    "\n",
    "  def call(self, pair):\n",
    "    target, context = pair\n",
    "    # context: (batch, context)\n",
    "    if len(target.shape) == 2:\n",
    "      target = tf.squeeze(target, axis=1)\n",
    "    # target: (batch,)\n",
    "    word_emb = self.target_embedding(target)\n",
    "    # word_emb: (batch, embed)\n",
    "    context_emb = self.context_embedding(context)\n",
    "    # context_emb: (batch, context, embed)\n",
    "    dots = tf.einsum('be,bce->bc', word_emb, context_emb)\n",
    "    # dots: (batch, context)\n",
    "    return dots\n",
    "\n",
    "  def negative_sampling_loss(x_logit, y_true):\n",
    "    \"\"\"\n",
    "    Compute the loss for negative sampling.\n",
    "    \"\"\"\n",
    "    # x_logit: (batch, context)\n",
    "    # y_true: (batch, context)\n",
    "    x_logit = tf.cast(x_logit, tf.float32)\n",
    "    return tf.nn.sigmoid_cross_entropy_with_logits(labels=y_true, logits=x_logit)\n",
    "\n"
   ]
  },
  {
   "cell_type": "code",
   "execution_count": 46,
   "metadata": {},
   "outputs": [],
   "source": [
    "embedding_dim = 128\n",
    "word2vec = Word2Vec(len(tokens), embedding_dim, 4)\n",
    "word2vec.compile(optimizer='adam', loss=tf.keras.losses.CategoricalCrossentropy(from_logits=True) , metrics=['accuracy'])"
   ]
  },
  {
   "cell_type": "code",
   "execution_count": 47,
   "metadata": {},
   "outputs": [
    {
     "name": "stdout",
     "output_type": "stream",
     "text": [
      "Epoch 1/20\n",
      "1112/1112 [==============================] - 19s 17ms/step - loss: 1.0524 - accuracy: 0.5637\n",
      "Epoch 2/20\n",
      "1112/1112 [==============================] - 18s 16ms/step - loss: 0.8475 - accuracy: 0.6463\n",
      "Epoch 3/20\n",
      "1112/1112 [==============================] - 18s 17ms/step - loss: 0.7854 - accuracy: 0.6735\n",
      "Epoch 4/20\n",
      "1112/1112 [==============================] - 18s 16ms/step - loss: 0.7288 - accuracy: 0.7024\n",
      "Epoch 5/20\n",
      "1112/1112 [==============================] - 18s 16ms/step - loss: 0.6701 - accuracy: 0.7343\n",
      "Epoch 6/20\n",
      "1112/1112 [==============================] - 18s 16ms/step - loss: 0.6087 - accuracy: 0.7684\n",
      "Epoch 7/20\n",
      "1112/1112 [==============================] - 18s 16ms/step - loss: 0.5458 - accuracy: 0.8039\n",
      "Epoch 8/20\n",
      "1112/1112 [==============================] - 18s 16ms/step - loss: 0.4839 - accuracy: 0.8378\n",
      "Epoch 9/20\n",
      "1112/1112 [==============================] - 18s 16ms/step - loss: 0.4251 - accuracy: 0.8680\n",
      "Epoch 10/20\n",
      "1112/1112 [==============================] - 18s 16ms/step - loss: 0.3710 - accuracy: 0.8935\n",
      "Epoch 11/20\n",
      "1112/1112 [==============================] - 18s 16ms/step - loss: 0.3226 - accuracy: 0.9142\n",
      "Epoch 12/20\n",
      "1112/1112 [==============================] - 18s 16ms/step - loss: 0.2799 - accuracy: 0.9307\n",
      "Epoch 13/20\n",
      "1112/1112 [==============================] - 18s 16ms/step - loss: 0.2428 - accuracy: 0.9439\n",
      "Epoch 14/20\n",
      "1112/1112 [==============================] - 18s 16ms/step - loss: 0.2108 - accuracy: 0.9541\n",
      "Epoch 15/20\n",
      "1112/1112 [==============================] - 18s 16ms/step - loss: 0.1833 - accuracy: 0.96200s - loss: 0.1833 - accuracy: \n",
      "Epoch 16/20\n",
      "1112/1112 [==============================] - 18s 16ms/step - loss: 0.1599 - accuracy: 0.9680\n",
      "Epoch 17/20\n",
      "1112/1112 [==============================] - 18s 16ms/step - loss: 0.1400 - accuracy: 0.9725\n",
      "Epoch 18/20\n",
      "1112/1112 [==============================] - 18s 16ms/step - loss: 0.1232 - accuracy: 0.9760\n",
      "Epoch 19/20\n",
      "1112/1112 [==============================] - 18s 16ms/step - loss: 0.1090 - accuracy: 0.9786\n",
      "Epoch 20/20\n",
      "1112/1112 [==============================] - 18s 16ms/step - loss: 0.0970 - accuracy: 0.9807\n"
     ]
    }
   ],
   "source": [
    "tensorboard_callback = tf.keras.callbacks.TensorBoard(log_dir='./logs/word2vec', histogram_freq=1)\n",
    "H = word2vec.fit(skipgram_dataset, epochs=20, callbacks=[tensorboard_callback])"
   ]
  },
  {
   "cell_type": "code",
   "execution_count": 57,
   "metadata": {},
   "outputs": [
    {
     "name": "stdout",
     "output_type": "stream",
     "text": [
      "(12178, 128)\n",
      "12178\n"
     ]
    }
   ],
   "source": [
    "weights = word2vec.get_layer('w2v_embedding').get_weights()[0]\n",
    "print(weights.shape)\n",
    "print(len(tokens))\n",
    "\n",
    "emb = pd.DataFrame([weights[i] for i in range(len(tokens))], index=tokens)\n",
    "emb.to_csv('word2vec_embedding.csv')"
   ]
  },
  {
   "cell_type": "code",
   "execution_count": 49,
   "metadata": {},
   "outputs": [
    {
     "data": {
      "text/html": [
       "<div>\n",
       "<style scoped>\n",
       "    .dataframe tbody tr th:only-of-type {\n",
       "        vertical-align: middle;\n",
       "    }\n",
       "\n",
       "    .dataframe tbody tr th {\n",
       "        vertical-align: top;\n",
       "    }\n",
       "\n",
       "    .dataframe thead th {\n",
       "        text-align: right;\n",
       "    }\n",
       "</style>\n",
       "<table border=\"1\" class=\"dataframe\">\n",
       "  <thead>\n",
       "    <tr style=\"text-align: right;\">\n",
       "      <th></th>\n",
       "      <th>0</th>\n",
       "      <th>1</th>\n",
       "      <th>2</th>\n",
       "      <th>3</th>\n",
       "      <th>4</th>\n",
       "      <th>5</th>\n",
       "      <th>6</th>\n",
       "      <th>7</th>\n",
       "      <th>8</th>\n",
       "      <th>9</th>\n",
       "      <th>...</th>\n",
       "      <th>118</th>\n",
       "      <th>119</th>\n",
       "      <th>120</th>\n",
       "      <th>121</th>\n",
       "      <th>122</th>\n",
       "      <th>123</th>\n",
       "      <th>124</th>\n",
       "      <th>125</th>\n",
       "      <th>126</th>\n",
       "      <th>127</th>\n",
       "    </tr>\n",
       "  </thead>\n",
       "  <tbody>\n",
       "    <tr>\n",
       "      <th>&lt;pad&gt;</th>\n",
       "      <td>0.026874</td>\n",
       "      <td>-0.049804</td>\n",
       "      <td>-0.040913</td>\n",
       "      <td>-0.042245</td>\n",
       "      <td>0.026275</td>\n",
       "      <td>-0.015231</td>\n",
       "      <td>-0.045740</td>\n",
       "      <td>-0.001371</td>\n",
       "      <td>-0.027052</td>\n",
       "      <td>-0.028193</td>\n",
       "      <td>...</td>\n",
       "      <td>0.023904</td>\n",
       "      <td>-0.000802</td>\n",
       "      <td>-0.020214</td>\n",
       "      <td>0.024352</td>\n",
       "      <td>0.041932</td>\n",
       "      <td>0.001481</td>\n",
       "      <td>0.038524</td>\n",
       "      <td>0.035024</td>\n",
       "      <td>0.036776</td>\n",
       "      <td>0.036592</td>\n",
       "    </tr>\n",
       "    <tr>\n",
       "      <th>&lt;sep&gt;</th>\n",
       "      <td>-0.808696</td>\n",
       "      <td>1.793078</td>\n",
       "      <td>0.018985</td>\n",
       "      <td>1.399279</td>\n",
       "      <td>1.022748</td>\n",
       "      <td>-0.577521</td>\n",
       "      <td>-1.264128</td>\n",
       "      <td>0.236296</td>\n",
       "      <td>0.445305</td>\n",
       "      <td>-0.354724</td>\n",
       "      <td>...</td>\n",
       "      <td>-0.791864</td>\n",
       "      <td>-0.377173</td>\n",
       "      <td>0.017149</td>\n",
       "      <td>1.202706</td>\n",
       "      <td>0.216141</td>\n",
       "      <td>-0.858716</td>\n",
       "      <td>-0.348016</td>\n",
       "      <td>-0.611267</td>\n",
       "      <td>-0.478441</td>\n",
       "      <td>-0.487538</td>\n",
       "    </tr>\n",
       "    <tr>\n",
       "      <th>&lt;unk&gt;</th>\n",
       "      <td>0.573022</td>\n",
       "      <td>-0.099768</td>\n",
       "      <td>-0.759066</td>\n",
       "      <td>0.123787</td>\n",
       "      <td>-0.352095</td>\n",
       "      <td>-0.504453</td>\n",
       "      <td>0.241041</td>\n",
       "      <td>0.639629</td>\n",
       "      <td>0.160775</td>\n",
       "      <td>0.275783</td>\n",
       "      <td>...</td>\n",
       "      <td>0.362448</td>\n",
       "      <td>-0.212791</td>\n",
       "      <td>0.098707</td>\n",
       "      <td>0.039922</td>\n",
       "      <td>-0.369519</td>\n",
       "      <td>-0.508871</td>\n",
       "      <td>-0.292618</td>\n",
       "      <td>0.908240</td>\n",
       "      <td>0.949985</td>\n",
       "      <td>-0.134691</td>\n",
       "    </tr>\n",
       "    <tr>\n",
       "      <th>&lt;mask&gt;</th>\n",
       "      <td>-0.048459</td>\n",
       "      <td>0.021785</td>\n",
       "      <td>-0.002477</td>\n",
       "      <td>0.009309</td>\n",
       "      <td>-0.002760</td>\n",
       "      <td>0.001185</td>\n",
       "      <td>-0.028590</td>\n",
       "      <td>0.049159</td>\n",
       "      <td>-0.003574</td>\n",
       "      <td>-0.015082</td>\n",
       "      <td>...</td>\n",
       "      <td>0.018194</td>\n",
       "      <td>-0.000781</td>\n",
       "      <td>-0.019113</td>\n",
       "      <td>-0.034744</td>\n",
       "      <td>0.010155</td>\n",
       "      <td>0.020153</td>\n",
       "      <td>0.043678</td>\n",
       "      <td>-0.033830</td>\n",
       "      <td>-0.007656</td>\n",
       "      <td>0.003803</td>\n",
       "    </tr>\n",
       "    <tr>\n",
       "      <th>.</th>\n",
       "      <td>-1.094318</td>\n",
       "      <td>0.385190</td>\n",
       "      <td>0.228293</td>\n",
       "      <td>0.002123</td>\n",
       "      <td>-0.431485</td>\n",
       "      <td>-0.047274</td>\n",
       "      <td>-0.268959</td>\n",
       "      <td>0.009365</td>\n",
       "      <td>-0.159678</td>\n",
       "      <td>0.691581</td>\n",
       "      <td>...</td>\n",
       "      <td>0.350256</td>\n",
       "      <td>1.107469</td>\n",
       "      <td>-0.719812</td>\n",
       "      <td>0.680427</td>\n",
       "      <td>1.287752</td>\n",
       "      <td>1.353465</td>\n",
       "      <td>0.164322</td>\n",
       "      <td>-0.064036</td>\n",
       "      <td>-0.717928</td>\n",
       "      <td>-0.396783</td>\n",
       "    </tr>\n",
       "  </tbody>\n",
       "</table>\n",
       "<p>5 rows × 128 columns</p>\n",
       "</div>"
      ],
      "text/plain": [
       "             0         1         2         3         4         5         6    \\\n",
       "<pad>   0.026874 -0.049804 -0.040913 -0.042245  0.026275 -0.015231 -0.045740   \n",
       "<sep>  -0.808696  1.793078  0.018985  1.399279  1.022748 -0.577521 -1.264128   \n",
       "<unk>   0.573022 -0.099768 -0.759066  0.123787 -0.352095 -0.504453  0.241041   \n",
       "<mask> -0.048459  0.021785 -0.002477  0.009309 -0.002760  0.001185 -0.028590   \n",
       ".      -1.094318  0.385190  0.228293  0.002123 -0.431485 -0.047274 -0.268959   \n",
       "\n",
       "             7         8         9    ...       118       119       120  \\\n",
       "<pad>  -0.001371 -0.027052 -0.028193  ...  0.023904 -0.000802 -0.020214   \n",
       "<sep>   0.236296  0.445305 -0.354724  ... -0.791864 -0.377173  0.017149   \n",
       "<unk>   0.639629  0.160775  0.275783  ...  0.362448 -0.212791  0.098707   \n",
       "<mask>  0.049159 -0.003574 -0.015082  ...  0.018194 -0.000781 -0.019113   \n",
       ".       0.009365 -0.159678  0.691581  ...  0.350256  1.107469 -0.719812   \n",
       "\n",
       "             121       122       123       124       125       126       127  \n",
       "<pad>   0.024352  0.041932  0.001481  0.038524  0.035024  0.036776  0.036592  \n",
       "<sep>   1.202706  0.216141 -0.858716 -0.348016 -0.611267 -0.478441 -0.487538  \n",
       "<unk>   0.039922 -0.369519 -0.508871 -0.292618  0.908240  0.949985 -0.134691  \n",
       "<mask> -0.034744  0.010155  0.020153  0.043678 -0.033830 -0.007656  0.003803  \n",
       ".       0.680427  1.287752  1.353465  0.164322 -0.064036 -0.717928 -0.396783  \n",
       "\n",
       "[5 rows x 128 columns]"
      ]
     },
     "execution_count": 49,
     "metadata": {},
     "output_type": "execute_result"
    }
   ],
   "source": [
    "emb.head()"
   ]
  },
  {
   "cell_type": "code",
   "execution_count": 55,
   "metadata": {},
   "outputs": [
    {
     "data": {
      "text/plain": [
       "Text(0.5, 0, 'Epoch')"
      ]
     },
     "execution_count": 55,
     "metadata": {},
     "output_type": "execute_result"
    },
    {
     "data": {
      "image/png": "[encoded data removed]",
      "text/plain": [
       "<Figure size 432x288 with 1 Axes>"
      ]
     },
     "metadata": {},
     "output_type": "display_data"
    }
   ],
   "source": [
    "plt.plot(H.history['accuracy'])\n",
    "plt.plot(H.history['loss'])\n",
    "plt.title('Model accuracy')\n",
    "plt.ylabel('Accuracy')\n",
    "plt.xlabel('Epoch')"
   ]
  },
  {
   "cell_type": "code",
   "execution_count": 52,
   "metadata": {},
   "outputs": [],
   "source": [
    "json.dump(sentences, open('tok_sentences.json', 'w'))"
   ]
  },
  {
   "cell_type": "code",
   "execution_count": 72,
   "metadata": {},
   "outputs": [
    {
     "name": "stdout",
     "output_type": "stream",
     "text": [
      "tf.Tensor(0, shape=(), dtype=int32)\n",
      "tf.Tensor(1, shape=(), dtype=int32)\n",
      "tf.Tensor(2, shape=(), dtype=int32)\n",
      "tf.Tensor(3, shape=(), dtype=int32)\n",
      "tf.Tensor(4, shape=(), dtype=int32)\n"
     ]
    }
   ],
   "source": [
    "ds = tf.data.Dataset.from_tensor_slices([0,1,2,3,4])\n",
    "for i in ds:\n",
    "    print(i)"
   ]
  },
  {
   "cell_type": "code",
   "execution_count": 53,
   "metadata": {},
   "outputs": [
    {
     "name": "stderr",
     "output_type": "stream",
     "text": [
      "100%|██████████| 122505/122505 [00:01<00:00, 102870.17it/s]\n",
      "100%|██████████| 58922/58922 [00:00<00:00, 102117.78it/s]\n",
      "100%|██████████| 8064/8064 [00:00<00:00, 100801.30it/s]\n",
      "100%|██████████| 112394/112394 [00:01<00:00, 99672.60it/s]\n",
      "100%|██████████| 128514/128514 [00:01<00:00, 102501.34it/s]\n",
      "100%|██████████| 62284/62284 [00:00<00:00, 103247.32it/s]\n"
     ]
    }
   ],
   "source": [
    "seq_length = 96\n",
    "\n",
    "padded_sentences = []\n",
    "following_sentences = []\n",
    "for series in sentences.keys():\n",
    "    for sentence in tqdm.tqdm(sentences[series]):\n",
    "        padded_sentence = [0] * seq_length\n",
    "        for i, word in enumerate(sentence):\n",
    "            if i >= seq_length:\n",
    "                break\n",
    "            padded_sentence[i] = word\n",
    "        padded_sentence = np.array(padded_sentence)\n",
    "        padded_sentences.append(padded_sentence)\n",
    "\n"
   ]
  },
  {
   "cell_type": "code",
   "execution_count": 54,
   "metadata": {},
   "outputs": [
    {
     "data": {
      "text/plain": [
       "492682"
      ]
     },
     "execution_count": 54,
     "metadata": {},
     "output_type": "execute_result"
    }
   ],
   "source": [
    "len(padded_sentences[:-1])"
   ]
  },
  {
   "cell_type": "code",
   "execution_count": 55,
   "metadata": {},
   "outputs": [],
   "source": [
    "padded_sent_ds = tf.data.Dataset.from_tensor_slices((padded_sentences[:-1], padded_sentences[1:]))"
   ]
  },
  {
   "cell_type": "code",
   "execution_count": 56,
   "metadata": {},
   "outputs": [
    {
     "name": "stdout",
     "output_type": "stream",
     "text": [
      "<start> the deep space nine transcripts emissary emissary stardate : 4 6 3 7 9 . 1 original airdate : 3 jan , 1 9 9 3 on stardate 4 3 9 9 7 , captain jean luc picard of the federation starship enterprise was kidnapped for six days by an invading force known as the borg . <end> <pad> <pad> <pad> <pad> <pad> <pad> <pad> <pad> <pad> <pad> <pad> <pad> <pad> <pad> <pad> <pad> <pad> <pad> <pad> <pad> <pad> <pad> <pad> <pad> <pad> <pad> <pad> <pad> <pad> <pad> <pad> <pad> <pad> <pad> <pad> <pad> <pad>\n",
      "<start> surgically altered , he was forced to lead an assault on starfleet at wolf 3 5 9 . <end> <pad> <pad> <pad> <pad> <pad> <pad> <pad> <pad> <pad> <pad> <pad> <pad> <pad> <pad> <pad> <pad> <pad> <pad> <pad> <pad> <pad> <pad> <pad> <pad> <pad> <pad> <pad> <pad> <pad> <pad> <pad> <pad> <pad> <pad> <pad> <pad> <pad> <pad> <pad> <pad> <pad> <pad> <pad> <pad> <pad> <pad> <pad> <pad> <pad> <pad> <pad> <pad> <pad> <pad> <pad> <pad> <pad> <pad> <pad> <pad> <pad> <pad> <pad> <pad> <pad> <pad> <pad> <pad> <pad> <pad> <pad> <pad> <pad> <pad> <pad> <pad>\n"
     ]
    }
   ],
   "source": [
    "for s in padded_sent_ds.take(1):\n",
    "    print(inv_tokenize(s[0].numpy()))\n",
    "    print(inv_tokenize(s[1].numpy()))"
   ]
  },
  {
   "cell_type": "code",
   "execution_count": 57,
   "metadata": {},
   "outputs": [],
   "source": [
    "tf.data.experimental.save(padded_sent_ds, 'padded_sentences.tfrecord', compression=\"GZIP\")"
   ]
  },
  {
   "cell_type": "code",
   "execution_count": 58,
   "metadata": {},
   "outputs": [
    {
     "name": "stdout",
     "output_type": "stream",
     "text": [
      "tf.Tensor(\n",
      "[   3    8  713  291  293  664 1746 1746  357    6  268  247  345  400\n",
      "  222    5  196  523  674    6  345 4068    7  196  222  222  345   25\n",
      "  357  268  345  222  222  400    7   46 1008 1024   48   14    8  284\n",
      "  594  188   39 5033   30  325  349   99   65 9060  676  688   53    8\n",
      "  351    5    4    0    0    0    0    0    0    0    0    0    0    0\n",
      "    0    0    0    0    0    0    0    0    0    0    0    0    0    0\n",
      "    0    0    0    0    0    0    0    0    0    0    0    0], shape=(96,), dtype=int32)\n"
     ]
    }
   ],
   "source": [
    "record_sentences = tf.data.experimental.load('padded_sentences.tfrecord', compression='GZIP')\n",
    "\n",
    "for s in record_sentences.take(1):\n",
    "    print(s[0])"
   ]
  },
  {
   "cell_type": "code",
   "execution_count": 59,
   "metadata": {},
   "outputs": [
    {
     "data": {
      "text/plain": [
       "492683"
      ]
     },
     "execution_count": 59,
     "metadata": {},
     "output_type": "execute_result"
    }
   ],
   "source": [
    "len(padded_sentences)"
   ]
  },
  {
   "cell_type": "code",
   "execution_count": 47,
   "metadata": {},
   "outputs": [],
   "source": [
    "words_ds = tf.data.Dataset.from_tensor_slices(words)"
   ]
  },
  {
   "cell_type": "code",
   "execution_count": null,
   "metadata": {},
   "outputs": [],
   "source": []
  },
  {
   "cell_type": "code",
   "execution_count": 98,
   "metadata": {},
   "outputs": [],
   "source": [
    "sent = []\n",
    "se = []\n",
    "for s in words:\n",
    "    # if s in tokens.keys():\n",
    "    #     se.append(tokens[s])\n",
    "    # else:\n",
    "    #     se.append(tokens['<unk>'])\n",
    "    se.append(s)\n",
    "    if(len(se) == 96):\n",
    "        sent.append(se)\n",
    "        se = []\n",
    "\n"
   ]
  },
  {
   "cell_type": "code",
   "execution_count": 99,
   "metadata": {},
   "outputs": [
    {
     "data": {
      "text/plain": [
       "61367"
      ]
     },
     "execution_count": 99,
     "metadata": {},
     "output_type": "execute_result"
    }
   ],
   "source": [
    "len(sent)"
   ]
  },
  {
   "cell_type": "code",
   "execution_count": 100,
   "metadata": {},
   "outputs": [],
   "source": [
    "comp_sent_ds = tf.data.Dataset.from_tensor_slices(sent)"
   ]
  },
  {
   "cell_type": "code",
   "execution_count": 101,
   "metadata": {},
   "outputs": [
    {
     "name": "stdout",
     "output_type": "stream",
     "text": [
      "tf.Tensor(\n",
      "[    3     8   713   291   293   664  1746  1746   357     6   268   247\n",
      "   345   400   222     5   196   523   674     6   345  4068     7   196\n",
      "   222   222   345    25   357   268   345   222   222   400     7    46\n",
      "  1008  1024    48    14     8   284   594   188    39  5033    30   325\n",
      "   349    99    65  9060   676   688    53     8   351     5     4     3\n",
      "  7761  2011     7    43    39  1338     9  1033    65  2682    25   226\n",
      "    56  6668   345   355   222     5     4     3    18 11651    92    19\n",
      "  9583    18    25   229    19     6  1632    17  4102     5     4     3], shape=(96,), dtype=int32)\n"
     ]
    }
   ],
   "source": [
    "for s in comp_sent_ds.take(1):\n",
    "    print(s)"
   ]
  },
  {
   "cell_type": "code",
   "execution_count": 83,
   "metadata": {},
   "outputs": [],
   "source": [
    "tf.data.experimental.save(\n",
    "    comp_sent_ds, 'comp_sent.tfrecord', compression=\"GZIP\")\n"
   ]
  },
  {
   "cell_type": "code",
   "execution_count": 14,
   "metadata": {},
   "outputs": [],
   "source": [
    "raw_sentences = [s for s in raw_sentences if len(s) > 0]"
   ]
  },
  {
   "cell_type": "code",
   "execution_count": 17,
   "metadata": {},
   "outputs": [
    {
     "data": {
      "text/plain": [
       "['the deep space nine transcripts - emissary emissary stardate: 46379.1 original airdate: 3 jan, 1993 on stardate 43997, captain jean-luc picard of the federation starship enterprise was kidnapped for six days by an invading force known as the borg.',\n",
       " ' surgically altered, he was forced to lead an assault on starfleet at wolf 359.',\n",
       " '[saratoga - bridge] locutus [on viewscreen]: resistance is futile.']"
      ]
     },
     "execution_count": 17,
     "metadata": {},
     "output_type": "execute_result"
    }
   ],
   "source": [
    "raw_sentences[0:3]"
   ]
  },
  {
   "cell_type": "code",
   "execution_count": 19,
   "metadata": {},
   "outputs": [],
   "source": [
    "tokenizer = GPT2Tokenizer.from_pretrained('gpt2')\n",
    "tokenizer.add_special_tokens({'pad_token': '<pad>'})\n",
    "vocab_length = tokenizer.vocab_size\n",
    "\n",
    "\n",
    "def tokenize(s, max_len=128):\n",
    "    tok = tokenizer.encode(s)\n",
    "    return tf.constant(tok, dtype=tf.int32)\n"
   ]
  },
  {
   "cell_type": "code",
   "execution_count": 20,
   "metadata": {},
   "outputs": [
    {
     "name": "stderr",
     "output_type": "stream",
     "text": [
      "100%|██████████| 492686/492686 [00:57<00:00, 8635.14it/s]\n"
     ]
    }
   ],
   "source": [
    "raw_gpt_tokens = []\n",
    "for s in tqdm.tqdm(raw_sentences):\n",
    "    raw_gpt_tokens.append(tokenize(s))"
   ]
  },
  {
   "cell_type": "code",
   "execution_count": 41,
   "metadata": {},
   "outputs": [
    {
     "name": "stderr",
     "output_type": "stream",
     "text": [
      "100%|██████████| 492686/492686 [00:17<00:00, 27867.82it/s]\n"
     ]
    }
   ],
   "source": [
    "combined_sentences = []\n",
    "scratch = []\n",
    "for s in tqdm.tqdm(raw_gpt_tokens):\n",
    "    if (len(scratch) + len(s)) < 128:\n",
    "        scratch = tf.concat([scratch, s], axis=0)\n",
    "        # print(scratch)\n",
    "    else:\n",
    "        scratch = tf.concat(\n",
    "                [scratch, [tokenizer.pad_token_id]*(128 - len(scratch))], axis=0)\n",
    "        s = tf.concat([s, [tokenizer.pad_token_id]*((128 - len(s)))], axis=0)\n",
    "        combined_sentences.append((scratch, s))\n",
    "        scratch = []\n",
    "        # break\n"
   ]
  },
  {
   "cell_type": "code",
   "execution_count": 42,
   "metadata": {},
   "outputs": [
    {
     "data": {
      "text/plain": [
       "(<tf.Tensor: shape=(128,), dtype=int32, numpy=\n",
       " array([ 1169,  2769,  2272,  5193, 29351,   532,   795,   747,   560,\n",
       "          795,   747,   560,   336,   446,   378,    25,  6337, 29088,\n",
       "           13,    16,  2656,   257,  1447,   378,    25,   513, 42897,\n",
       "           11,  9656,   319,   336,   446,   378,  5946, 39647,    11,\n",
       "        10654,   474, 11025,    12,    75,  1229,  8301,   446,   286,\n",
       "          262, 36986, 48744, 13953,   373, 23384,   329,  2237,  1528,\n",
       "          416,   281, 33827,  2700,  1900,   355,   262,   275,  2398,\n",
       "           13, 19797,  1146, 14294,    11,   339,   373,  4137,   284,\n",
       "         1085,   281,  4641,   319,  3491, 33559,   379, 17481, 41934,\n",
       "           13,    58,    82, 34174, 10949,   532,  7696,    60,  1179,\n",
       "          315,   385,   685,   261,  1570,  9612,  5974,  6625,   318,\n",
       "        35322,    13,   345,   481, 35526,   534,  3777,   290, 27675,\n",
       "          514,   284,  6567,  6632,  6632,   530,    13,   611,   345,\n",
       "         2230,   284, 22432,    11,   356,   481,  4117,   345,    13,\n",
       "        50257, 50257])>,\n",
       " <tf.Tensor: shape=(128,), dtype=int32, numpy=\n",
       " array([10654,    25,   357,    64, 24477,  5171,     8,  2266,  7995,\n",
       "           13, 50257, 50257, 50257, 50257, 50257, 50257, 50257, 50257,\n",
       "        50257, 50257, 50257, 50257, 50257, 50257, 50257, 50257, 50257,\n",
       "        50257, 50257, 50257, 50257, 50257, 50257, 50257, 50257, 50257,\n",
       "        50257, 50257, 50257, 50257, 50257, 50257, 50257, 50257, 50257,\n",
       "        50257, 50257, 50257, 50257, 50257, 50257, 50257, 50257, 50257,\n",
       "        50257, 50257, 50257, 50257, 50257, 50257, 50257, 50257, 50257,\n",
       "        50257, 50257, 50257, 50257, 50257, 50257, 50257, 50257, 50257,\n",
       "        50257, 50257, 50257, 50257, 50257, 50257, 50257, 50257, 50257,\n",
       "        50257, 50257, 50257, 50257, 50257, 50257, 50257, 50257, 50257,\n",
       "        50257, 50257, 50257, 50257, 50257, 50257, 50257, 50257, 50257,\n",
       "        50257, 50257, 50257, 50257, 50257, 50257, 50257, 50257, 50257,\n",
       "        50257, 50257, 50257, 50257, 50257, 50257, 50257, 50257, 50257,\n",
       "        50257, 50257, 50257, 50257, 50257, 50257, 50257, 50257, 50257,\n",
       "        50257, 50257])>)"
      ]
     },
     "execution_count": 42,
     "metadata": {},
     "output_type": "execute_result"
    }
   ],
   "source": [
    "combined_sentences[0]"
   ]
  },
  {
   "cell_type": "code",
   "execution_count": 43,
   "metadata": {},
   "outputs": [],
   "source": [
    "raw_sentences_ds = tf.data.Dataset.from_tensor_slices(combined_sentences)\n"
   ]
  },
  {
   "cell_type": "code",
   "execution_count": 44,
   "metadata": {},
   "outputs": [],
   "source": [
    "tf.data.experimental.save(\n",
    "    raw_sentences_ds, 'sentences_combined_gpttokens.tfrecord', compression=\"GZIP\")\n"
   ]
  }
 ],
 "metadata": {
  "interpreter": {
   "hash": "fdcdff60b67b05b67ad0ae04d8e5c3b481a43b83a699826d48039a1889185218"
  },
  "kernelspec": {
   "display_name": "Python 3.9.7 64-bit ('tf-gpu': conda)",
   "language": "python",
   "name": "python3"
  },
  "language_info": {
   "codemirror_mode": {
    "name": "ipython",
    "version": 3
   },
   "file_extension": ".py",
   "mimetype": "text/x-python",
   "name": "python",
   "nbconvert_exporter": "python",
   "pygments_lexer": "ipython3",
   "version": "3.9.7"
  },
  "orig_nbformat": 4
 },
 "nbformat": 4,
 "nbformat_minor": 2
}
