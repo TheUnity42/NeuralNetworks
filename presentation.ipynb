{
 "cells": [
  {
   "cell_type": "markdown",
   "metadata": {},
   "source": [
    "# Generating Star Trek Dialogue with Transformers\n",
    "## Jared Talon Holton"
   ]
  },
  {
   "cell_type": "code",
   "execution_count": null,
   "metadata": {},
   "outputs": [],
   "source": [
    "f = open(\"all_scripts_raw.json\", \"r\")\n",
    "data = json.load(f)\n",
    "\n",
    "split_words = re.compile(r'[\\s\\[\\]\\(\\),.?!:]')\n",
    "split_sentence = re.compile(r'(?<=[?!.])(?![\\d]+)')"
   ]
  },
  {
   "cell_type": "code",
   "execution_count": null,
   "metadata": {},
   "outputs": [],
   "source": [
    "sentences = {}\n",
    "raw_sentences = []\n",
    "words = []\n",
    "print(\"building sentence corpus...\")\n",
    "for series in df_scenes:\n",
    "    sentences[series] = []\n",
    "    for ep in df_scenes[series]:\n",
    "        if type(ep) != list:\n",
    "            continue\n",
    "\n",
    "        for scene in ep:\n",
    "            if type(scene) != str:\n",
    "                continue\n",
    "            \n",
    "            for s in split_sentence.split(scene.strip().lower()):\n",
    "                raw_sentences.append(s)     \n",
    "               \n",
    "    print(f\"Finished loading {series}\")\n",
    "\n",
    "print(\"Done!\") "
   ]
  },
  {
   "cell_type": "code",
   "execution_count": null,
   "metadata": {},
   "outputs": [],
   "source": [
    "tokenizer = GPT2Tokenizer.from_pretrained('gpt2')\n",
    "tokenizer.add_special_tokens({'pad_token': '<pad>'})\n",
    "vocab_length = tokenizer.vocab_size\n",
    "\n",
    "\n",
    "def tokenize(s, max_len=128):\n",
    "    tok = tokenizer.encode(s)\n",
    "    return tf.constant(tok, dtype=tf.int32)\n",
    "\n",
    "raw_gpt_tokens = []\n",
    "for s in tqdm.tqdm(raw_sentences):\n",
    "    raw_gpt_tokens.append(tokenize(s))"
   ]
  },
  {
   "cell_type": "code",
   "execution_count": null,
   "metadata": {},
   "outputs": [],
   "source": [
    "combined_sentences = []\n",
    "scratch = []\n",
    "for s in tqdm.tqdm(raw_gpt_tokens):\n",
    "    if (len(scratch) + len(s)) < 128:\n",
    "        scratch = tf.concat([scratch, s], axis=0)\n",
    "        # print(scratch)\n",
    "    else:\n",
    "        scratch = tf.concat(\n",
    "                [scratch, [tokenizer.pad_token_id]*(128 - len(scratch))], axis=0)\n",
    "        s = tf.concat([s, [tokenizer.pad_token_id]*((128 - len(s)))], axis=0)\n",
    "        combined_sentences.append((scratch, s))\n",
    "        scratch = []\n",
    "        # break"
   ]
  },
  {
   "cell_type": "markdown",
   "metadata": {},
   "source": [
    "def scaled_dot_product_attention(q, k, v, mask=None):\n",
    "        \"\"\"Calculate the attention weights.\n",
    "        q, k, v must have matching leading dimensions.\n",
    "        k, v must have matching penultimate dimension, i.e.: seq_len_k = seq_len_v.\n",
    "        The mask has different shapes depending on its type(padding or look ahead)\n",
    "        but it must be broadcastable for addition.\n",
    "\n",
    "        Args:\n",
    "            q: query shape == (..., seq_len_q, depth)\n",
    "            k: key shape == (..., seq_len_k, depth)\n",
    "            v: value shape == (..., seq_len_v, depth_v)\n",
    "            mask: Float tensor with shape broadcastable\n",
    "                to (..., seq_len_q, seq_len_k). Defaults to None.\n",
    "\n",
    "        Returns:\n",
    "            output, attention_weights\n",
    "        \"\"\"\n",
    "        \n",
    "        matmul_qk = tf.matmul(q, k, transpose_b=True)\n",
    "\n",
    "        # scale matmul_qk\n",
    "        dk = tf.cast(tf.shape(k)[-1], tf.float32)\n",
    "        scaled_attention_logits = matmul_qk / tf.math.sqrt(dk)\n",
    "\n",
    "        # add the mask to the scaled tensor.\n",
    "        if mask is not None:\n",
    "            scaled_attention_logits += (mask * -1e9)\n",
    "\n",
    "        # softmax is normalized on the last axis (seq_len_k) so that the scores\n",
    "        # add up to 1.\n",
    "        attention_weights = tf.nn.softmax(\n",
    "            scaled_attention_logits, axis=-1)  # (..., seq_len_q, seq_len_k)\n",
    "\n",
    "        output = tf.matmul(attention_weights, v)  # (..., seq_len_q, depth_v)\n",
    "\n",
    "        return output, attention_weights"
   ]
  },
  {
   "cell_type": "code",
   "execution_count": null,
   "metadata": {},
   "outputs": [],
   "source": [
    "def offsetElu(x):\n",
    "        return tf.nn.elu(x) + 1\n",
    "\n",
    "    def build_linear_attention(feature_map=None):\n",
    "        if feature_map is None:\n",
    "            feature_map = AttentionUtils.offsetElu\n",
    "\n",
    "        def lin_attention(q, k, v, mask=None):\n",
    "            \"\"\"Calculate the attention weights.\n",
    "                q, k, v must have matching leading dimensions.\n",
    "                k, v must have matching penultimate dimension, i.e.: seq_len_k = seq_len_v.\n",
    "                The mask has different shapes depending on its type(padding or look ahead)\n",
    "                but it must be broadcastable for addition.\n",
    "\n",
    "                Args:\n",
    "                    q: query shape == (..., seq_len_q, depth)\n",
    "                    k: key shape == (..., seq_len_k, depth)\n",
    "                    v: value shape == (..., seq_len_v, depth_v)\n",
    "                    mask: Float tensor with shape broadcastable\n",
    "                        to (..., seq_len_q, seq_len_k). Defaults to None.\n",
    "\n",
    "                Returns:\n",
    "                    output, attention_weights\n",
    "                \"\"\"\n",
    "\n",
    "            fQ = feature_map(q)\n",
    "            fK = feature_map(k)\n",
    "\n",
    "            Z = 1/tf.einsum('bhsi,bhsi->bhsi', q, tf.cumsum(k, axis=1))\n",
    "            S = tf.cumsum(tf.einsum('bhsi,bhsi->bhsi', q, v), axis=1)\n",
    "\n",
    "            Vp = tf.multiply(q, S)\n",
    "            Vp = tf.realdiv(Vp, Z)\n",
    "\n",
    "            return Vp, None\n",
    "        return lin_attention"
   ]
  }
 ],
 "metadata": {
  "language_info": {
   "name": "python"
  },
  "orig_nbformat": 4
 },
 "nbformat": 4,
 "nbformat_minor": 2
}
